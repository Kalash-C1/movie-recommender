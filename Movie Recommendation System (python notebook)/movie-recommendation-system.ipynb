{
 "cells": [
  {
   "cell_type": "code",
   "execution_count": 128,
   "metadata": {},
   "outputs": [],
   "source": [
    "import numpy as np\n",
    "import pandas as pd\n",
    "import ast\n",
    "from sklearn.feature_extraction.text import CountVectorizer\n",
    "cv=CountVectorizer(max_features=5000, stop_words='english')\n",
    "import nltk\n",
    "from nltk.stem.porter import PorterStemmer\n",
    "ps=PorterStemmer()\n",
    "from sklearn.metrics.pairwise import cosine_similarity"
   ]
  },
  {
   "cell_type": "code",
   "execution_count": 2,
   "metadata": {},
   "outputs": [],
   "source": [
    "movies=pd.read_csv('tmdb_5000_movies.csv')\n",
    "credits=pd.read_csv('tmdb_5000_credits.csv')"
   ]
  },
  {
   "cell_type": "code",
   "execution_count": 5,
   "metadata": {},
   "outputs": [
    {
     "data": {
      "text/html": [
       "<div>\n",
       "<style scoped>\n",
       "    .dataframe tbody tr th:only-of-type {\n",
       "        vertical-align: middle;\n",
       "    }\n",
       "\n",
       "    .dataframe tbody tr th {\n",
       "        vertical-align: top;\n",
       "    }\n",
       "\n",
       "    .dataframe thead th {\n",
       "        text-align: right;\n",
       "    }\n",
       "</style>\n",
       "<table border=\"1\" class=\"dataframe\">\n",
       "  <thead>\n",
       "    <tr style=\"text-align: right;\">\n",
       "      <th></th>\n",
       "      <th>budget</th>\n",
       "      <th>genres</th>\n",
       "      <th>homepage</th>\n",
       "      <th>id</th>\n",
       "      <th>keywords</th>\n",
       "      <th>original_language</th>\n",
       "      <th>original_title</th>\n",
       "      <th>overview</th>\n",
       "      <th>popularity</th>\n",
       "      <th>production_companies</th>\n",
       "      <th>...</th>\n",
       "      <th>runtime</th>\n",
       "      <th>spoken_languages</th>\n",
       "      <th>status</th>\n",
       "      <th>tagline</th>\n",
       "      <th>title</th>\n",
       "      <th>vote_average</th>\n",
       "      <th>vote_count</th>\n",
       "      <th>movie_id</th>\n",
       "      <th>cast</th>\n",
       "      <th>crew</th>\n",
       "    </tr>\n",
       "  </thead>\n",
       "  <tbody>\n",
       "    <tr>\n",
       "      <th>0</th>\n",
       "      <td>237000000</td>\n",
       "      <td>[{\"id\": 28, \"name\": \"Action\"}, {\"id\": 12, \"nam...</td>\n",
       "      <td>http://www.avatarmovie.com/</td>\n",
       "      <td>19995</td>\n",
       "      <td>[{\"id\": 1463, \"name\": \"culture clash\"}, {\"id\":...</td>\n",
       "      <td>en</td>\n",
       "      <td>Avatar</td>\n",
       "      <td>In the 22nd century, a paraplegic Marine is di...</td>\n",
       "      <td>150.437577</td>\n",
       "      <td>[{\"name\": \"Ingenious Film Partners\", \"id\": 289...</td>\n",
       "      <td>...</td>\n",
       "      <td>162.0</td>\n",
       "      <td>[{\"iso_639_1\": \"en\", \"name\": \"English\"}, {\"iso...</td>\n",
       "      <td>Released</td>\n",
       "      <td>Enter the World of Pandora.</td>\n",
       "      <td>Avatar</td>\n",
       "      <td>7.2</td>\n",
       "      <td>11800</td>\n",
       "      <td>19995</td>\n",
       "      <td>[{\"cast_id\": 242, \"character\": \"Jake Sully\", \"...</td>\n",
       "      <td>[{\"credit_id\": \"52fe48009251416c750aca23\", \"de...</td>\n",
       "    </tr>\n",
       "    <tr>\n",
       "      <th>1</th>\n",
       "      <td>300000000</td>\n",
       "      <td>[{\"id\": 12, \"name\": \"Adventure\"}, {\"id\": 14, \"...</td>\n",
       "      <td>http://disney.go.com/disneypictures/pirates/</td>\n",
       "      <td>285</td>\n",
       "      <td>[{\"id\": 270, \"name\": \"ocean\"}, {\"id\": 726, \"na...</td>\n",
       "      <td>en</td>\n",
       "      <td>Pirates of the Caribbean: At World's End</td>\n",
       "      <td>Captain Barbossa, long believed to be dead, ha...</td>\n",
       "      <td>139.082615</td>\n",
       "      <td>[{\"name\": \"Walt Disney Pictures\", \"id\": 2}, {\"...</td>\n",
       "      <td>...</td>\n",
       "      <td>169.0</td>\n",
       "      <td>[{\"iso_639_1\": \"en\", \"name\": \"English\"}]</td>\n",
       "      <td>Released</td>\n",
       "      <td>At the end of the world, the adventure begins.</td>\n",
       "      <td>Pirates of the Caribbean: At World's End</td>\n",
       "      <td>6.9</td>\n",
       "      <td>4500</td>\n",
       "      <td>285</td>\n",
       "      <td>[{\"cast_id\": 4, \"character\": \"Captain Jack Spa...</td>\n",
       "      <td>[{\"credit_id\": \"52fe4232c3a36847f800b579\", \"de...</td>\n",
       "    </tr>\n",
       "    <tr>\n",
       "      <th>2</th>\n",
       "      <td>245000000</td>\n",
       "      <td>[{\"id\": 28, \"name\": \"Action\"}, {\"id\": 12, \"nam...</td>\n",
       "      <td>http://www.sonypictures.com/movies/spectre/</td>\n",
       "      <td>206647</td>\n",
       "      <td>[{\"id\": 470, \"name\": \"spy\"}, {\"id\": 818, \"name...</td>\n",
       "      <td>en</td>\n",
       "      <td>Spectre</td>\n",
       "      <td>A cryptic message from Bond’s past sends him o...</td>\n",
       "      <td>107.376788</td>\n",
       "      <td>[{\"name\": \"Columbia Pictures\", \"id\": 5}, {\"nam...</td>\n",
       "      <td>...</td>\n",
       "      <td>148.0</td>\n",
       "      <td>[{\"iso_639_1\": \"fr\", \"name\": \"Fran\\u00e7ais\"},...</td>\n",
       "      <td>Released</td>\n",
       "      <td>A Plan No One Escapes</td>\n",
       "      <td>Spectre</td>\n",
       "      <td>6.3</td>\n",
       "      <td>4466</td>\n",
       "      <td>206647</td>\n",
       "      <td>[{\"cast_id\": 1, \"character\": \"James Bond\", \"cr...</td>\n",
       "      <td>[{\"credit_id\": \"54805967c3a36829b5002c41\", \"de...</td>\n",
       "    </tr>\n",
       "    <tr>\n",
       "      <th>3</th>\n",
       "      <td>250000000</td>\n",
       "      <td>[{\"id\": 28, \"name\": \"Action\"}, {\"id\": 80, \"nam...</td>\n",
       "      <td>http://www.thedarkknightrises.com/</td>\n",
       "      <td>49026</td>\n",
       "      <td>[{\"id\": 849, \"name\": \"dc comics\"}, {\"id\": 853,...</td>\n",
       "      <td>en</td>\n",
       "      <td>The Dark Knight Rises</td>\n",
       "      <td>Following the death of District Attorney Harve...</td>\n",
       "      <td>112.312950</td>\n",
       "      <td>[{\"name\": \"Legendary Pictures\", \"id\": 923}, {\"...</td>\n",
       "      <td>...</td>\n",
       "      <td>165.0</td>\n",
       "      <td>[{\"iso_639_1\": \"en\", \"name\": \"English\"}]</td>\n",
       "      <td>Released</td>\n",
       "      <td>The Legend Ends</td>\n",
       "      <td>The Dark Knight Rises</td>\n",
       "      <td>7.6</td>\n",
       "      <td>9106</td>\n",
       "      <td>49026</td>\n",
       "      <td>[{\"cast_id\": 2, \"character\": \"Bruce Wayne / Ba...</td>\n",
       "      <td>[{\"credit_id\": \"52fe4781c3a36847f81398c3\", \"de...</td>\n",
       "    </tr>\n",
       "    <tr>\n",
       "      <th>4</th>\n",
       "      <td>260000000</td>\n",
       "      <td>[{\"id\": 28, \"name\": \"Action\"}, {\"id\": 12, \"nam...</td>\n",
       "      <td>http://movies.disney.com/john-carter</td>\n",
       "      <td>49529</td>\n",
       "      <td>[{\"id\": 818, \"name\": \"based on novel\"}, {\"id\":...</td>\n",
       "      <td>en</td>\n",
       "      <td>John Carter</td>\n",
       "      <td>John Carter is a war-weary, former military ca...</td>\n",
       "      <td>43.926995</td>\n",
       "      <td>[{\"name\": \"Walt Disney Pictures\", \"id\": 2}]</td>\n",
       "      <td>...</td>\n",
       "      <td>132.0</td>\n",
       "      <td>[{\"iso_639_1\": \"en\", \"name\": \"English\"}]</td>\n",
       "      <td>Released</td>\n",
       "      <td>Lost in our world, found in another.</td>\n",
       "      <td>John Carter</td>\n",
       "      <td>6.1</td>\n",
       "      <td>2124</td>\n",
       "      <td>49529</td>\n",
       "      <td>[{\"cast_id\": 5, \"character\": \"John Carter\", \"c...</td>\n",
       "      <td>[{\"credit_id\": \"52fe479ac3a36847f813eaa3\", \"de...</td>\n",
       "    </tr>\n",
       "    <tr>\n",
       "      <th>...</th>\n",
       "      <td>...</td>\n",
       "      <td>...</td>\n",
       "      <td>...</td>\n",
       "      <td>...</td>\n",
       "      <td>...</td>\n",
       "      <td>...</td>\n",
       "      <td>...</td>\n",
       "      <td>...</td>\n",
       "      <td>...</td>\n",
       "      <td>...</td>\n",
       "      <td>...</td>\n",
       "      <td>...</td>\n",
       "      <td>...</td>\n",
       "      <td>...</td>\n",
       "      <td>...</td>\n",
       "      <td>...</td>\n",
       "      <td>...</td>\n",
       "      <td>...</td>\n",
       "      <td>...</td>\n",
       "      <td>...</td>\n",
       "      <td>...</td>\n",
       "    </tr>\n",
       "    <tr>\n",
       "      <th>4804</th>\n",
       "      <td>220000</td>\n",
       "      <td>[{\"id\": 28, \"name\": \"Action\"}, {\"id\": 80, \"nam...</td>\n",
       "      <td>NaN</td>\n",
       "      <td>9367</td>\n",
       "      <td>[{\"id\": 5616, \"name\": \"united states\\u2013mexi...</td>\n",
       "      <td>es</td>\n",
       "      <td>El Mariachi</td>\n",
       "      <td>El Mariachi just wants to play his guitar and ...</td>\n",
       "      <td>14.269792</td>\n",
       "      <td>[{\"name\": \"Columbia Pictures\", \"id\": 5}]</td>\n",
       "      <td>...</td>\n",
       "      <td>81.0</td>\n",
       "      <td>[{\"iso_639_1\": \"es\", \"name\": \"Espa\\u00f1ol\"}]</td>\n",
       "      <td>Released</td>\n",
       "      <td>He didn't come looking for trouble, but troubl...</td>\n",
       "      <td>El Mariachi</td>\n",
       "      <td>6.6</td>\n",
       "      <td>238</td>\n",
       "      <td>9367</td>\n",
       "      <td>[{\"cast_id\": 1, \"character\": \"El Mariachi\", \"c...</td>\n",
       "      <td>[{\"credit_id\": \"52fe44eec3a36847f80b280b\", \"de...</td>\n",
       "    </tr>\n",
       "    <tr>\n",
       "      <th>4805</th>\n",
       "      <td>9000</td>\n",
       "      <td>[{\"id\": 35, \"name\": \"Comedy\"}, {\"id\": 10749, \"...</td>\n",
       "      <td>NaN</td>\n",
       "      <td>72766</td>\n",
       "      <td>[]</td>\n",
       "      <td>en</td>\n",
       "      <td>Newlyweds</td>\n",
       "      <td>A newlywed couple's honeymoon is upended by th...</td>\n",
       "      <td>0.642552</td>\n",
       "      <td>[]</td>\n",
       "      <td>...</td>\n",
       "      <td>85.0</td>\n",
       "      <td>[]</td>\n",
       "      <td>Released</td>\n",
       "      <td>A newlywed couple's honeymoon is upended by th...</td>\n",
       "      <td>Newlyweds</td>\n",
       "      <td>5.9</td>\n",
       "      <td>5</td>\n",
       "      <td>72766</td>\n",
       "      <td>[{\"cast_id\": 1, \"character\": \"Buzzy\", \"credit_...</td>\n",
       "      <td>[{\"credit_id\": \"52fe487dc3a368484e0fb013\", \"de...</td>\n",
       "    </tr>\n",
       "    <tr>\n",
       "      <th>4806</th>\n",
       "      <td>0</td>\n",
       "      <td>[{\"id\": 35, \"name\": \"Comedy\"}, {\"id\": 18, \"nam...</td>\n",
       "      <td>http://www.hallmarkchannel.com/signedsealeddel...</td>\n",
       "      <td>231617</td>\n",
       "      <td>[{\"id\": 248, \"name\": \"date\"}, {\"id\": 699, \"nam...</td>\n",
       "      <td>en</td>\n",
       "      <td>Signed, Sealed, Delivered</td>\n",
       "      <td>\"Signed, Sealed, Delivered\" introduces a dedic...</td>\n",
       "      <td>1.444476</td>\n",
       "      <td>[{\"name\": \"Front Street Pictures\", \"id\": 3958}...</td>\n",
       "      <td>...</td>\n",
       "      <td>120.0</td>\n",
       "      <td>[{\"iso_639_1\": \"en\", \"name\": \"English\"}]</td>\n",
       "      <td>Released</td>\n",
       "      <td>NaN</td>\n",
       "      <td>Signed, Sealed, Delivered</td>\n",
       "      <td>7.0</td>\n",
       "      <td>6</td>\n",
       "      <td>231617</td>\n",
       "      <td>[{\"cast_id\": 8, \"character\": \"Oliver O\\u2019To...</td>\n",
       "      <td>[{\"credit_id\": \"52fe4df3c3a36847f8275ecf\", \"de...</td>\n",
       "    </tr>\n",
       "    <tr>\n",
       "      <th>4807</th>\n",
       "      <td>0</td>\n",
       "      <td>[]</td>\n",
       "      <td>http://shanghaicalling.com/</td>\n",
       "      <td>126186</td>\n",
       "      <td>[]</td>\n",
       "      <td>en</td>\n",
       "      <td>Shanghai Calling</td>\n",
       "      <td>When ambitious New York attorney Sam is sent t...</td>\n",
       "      <td>0.857008</td>\n",
       "      <td>[]</td>\n",
       "      <td>...</td>\n",
       "      <td>98.0</td>\n",
       "      <td>[{\"iso_639_1\": \"en\", \"name\": \"English\"}]</td>\n",
       "      <td>Released</td>\n",
       "      <td>A New Yorker in Shanghai</td>\n",
       "      <td>Shanghai Calling</td>\n",
       "      <td>5.7</td>\n",
       "      <td>7</td>\n",
       "      <td>126186</td>\n",
       "      <td>[{\"cast_id\": 3, \"character\": \"Sam\", \"credit_id...</td>\n",
       "      <td>[{\"credit_id\": \"52fe4ad9c3a368484e16a36b\", \"de...</td>\n",
       "    </tr>\n",
       "    <tr>\n",
       "      <th>4808</th>\n",
       "      <td>0</td>\n",
       "      <td>[{\"id\": 99, \"name\": \"Documentary\"}]</td>\n",
       "      <td>NaN</td>\n",
       "      <td>25975</td>\n",
       "      <td>[{\"id\": 1523, \"name\": \"obsession\"}, {\"id\": 224...</td>\n",
       "      <td>en</td>\n",
       "      <td>My Date with Drew</td>\n",
       "      <td>Ever since the second grade when he first saw ...</td>\n",
       "      <td>1.929883</td>\n",
       "      <td>[{\"name\": \"rusty bear entertainment\", \"id\": 87...</td>\n",
       "      <td>...</td>\n",
       "      <td>90.0</td>\n",
       "      <td>[{\"iso_639_1\": \"en\", \"name\": \"English\"}]</td>\n",
       "      <td>Released</td>\n",
       "      <td>NaN</td>\n",
       "      <td>My Date with Drew</td>\n",
       "      <td>6.3</td>\n",
       "      <td>16</td>\n",
       "      <td>25975</td>\n",
       "      <td>[{\"cast_id\": 3, \"character\": \"Herself\", \"credi...</td>\n",
       "      <td>[{\"credit_id\": \"58ce021b9251415a390165d9\", \"de...</td>\n",
       "    </tr>\n",
       "  </tbody>\n",
       "</table>\n",
       "<p>4809 rows × 23 columns</p>\n",
       "</div>"
      ],
      "text/plain": [
       "         budget                                             genres  \\\n",
       "0     237000000  [{\"id\": 28, \"name\": \"Action\"}, {\"id\": 12, \"nam...   \n",
       "1     300000000  [{\"id\": 12, \"name\": \"Adventure\"}, {\"id\": 14, \"...   \n",
       "2     245000000  [{\"id\": 28, \"name\": \"Action\"}, {\"id\": 12, \"nam...   \n",
       "3     250000000  [{\"id\": 28, \"name\": \"Action\"}, {\"id\": 80, \"nam...   \n",
       "4     260000000  [{\"id\": 28, \"name\": \"Action\"}, {\"id\": 12, \"nam...   \n",
       "...         ...                                                ...   \n",
       "4804     220000  [{\"id\": 28, \"name\": \"Action\"}, {\"id\": 80, \"nam...   \n",
       "4805       9000  [{\"id\": 35, \"name\": \"Comedy\"}, {\"id\": 10749, \"...   \n",
       "4806          0  [{\"id\": 35, \"name\": \"Comedy\"}, {\"id\": 18, \"nam...   \n",
       "4807          0                                                 []   \n",
       "4808          0                [{\"id\": 99, \"name\": \"Documentary\"}]   \n",
       "\n",
       "                                               homepage      id  \\\n",
       "0                           http://www.avatarmovie.com/   19995   \n",
       "1          http://disney.go.com/disneypictures/pirates/     285   \n",
       "2           http://www.sonypictures.com/movies/spectre/  206647   \n",
       "3                    http://www.thedarkknightrises.com/   49026   \n",
       "4                  http://movies.disney.com/john-carter   49529   \n",
       "...                                                 ...     ...   \n",
       "4804                                                NaN    9367   \n",
       "4805                                                NaN   72766   \n",
       "4806  http://www.hallmarkchannel.com/signedsealeddel...  231617   \n",
       "4807                        http://shanghaicalling.com/  126186   \n",
       "4808                                                NaN   25975   \n",
       "\n",
       "                                               keywords original_language  \\\n",
       "0     [{\"id\": 1463, \"name\": \"culture clash\"}, {\"id\":...                en   \n",
       "1     [{\"id\": 270, \"name\": \"ocean\"}, {\"id\": 726, \"na...                en   \n",
       "2     [{\"id\": 470, \"name\": \"spy\"}, {\"id\": 818, \"name...                en   \n",
       "3     [{\"id\": 849, \"name\": \"dc comics\"}, {\"id\": 853,...                en   \n",
       "4     [{\"id\": 818, \"name\": \"based on novel\"}, {\"id\":...                en   \n",
       "...                                                 ...               ...   \n",
       "4804  [{\"id\": 5616, \"name\": \"united states\\u2013mexi...                es   \n",
       "4805                                                 []                en   \n",
       "4806  [{\"id\": 248, \"name\": \"date\"}, {\"id\": 699, \"nam...                en   \n",
       "4807                                                 []                en   \n",
       "4808  [{\"id\": 1523, \"name\": \"obsession\"}, {\"id\": 224...                en   \n",
       "\n",
       "                                original_title  \\\n",
       "0                                       Avatar   \n",
       "1     Pirates of the Caribbean: At World's End   \n",
       "2                                      Spectre   \n",
       "3                        The Dark Knight Rises   \n",
       "4                                  John Carter   \n",
       "...                                        ...   \n",
       "4804                               El Mariachi   \n",
       "4805                                 Newlyweds   \n",
       "4806                 Signed, Sealed, Delivered   \n",
       "4807                          Shanghai Calling   \n",
       "4808                         My Date with Drew   \n",
       "\n",
       "                                               overview  popularity  \\\n",
       "0     In the 22nd century, a paraplegic Marine is di...  150.437577   \n",
       "1     Captain Barbossa, long believed to be dead, ha...  139.082615   \n",
       "2     A cryptic message from Bond’s past sends him o...  107.376788   \n",
       "3     Following the death of District Attorney Harve...  112.312950   \n",
       "4     John Carter is a war-weary, former military ca...   43.926995   \n",
       "...                                                 ...         ...   \n",
       "4804  El Mariachi just wants to play his guitar and ...   14.269792   \n",
       "4805  A newlywed couple's honeymoon is upended by th...    0.642552   \n",
       "4806  \"Signed, Sealed, Delivered\" introduces a dedic...    1.444476   \n",
       "4807  When ambitious New York attorney Sam is sent t...    0.857008   \n",
       "4808  Ever since the second grade when he first saw ...    1.929883   \n",
       "\n",
       "                                   production_companies  ... runtime  \\\n",
       "0     [{\"name\": \"Ingenious Film Partners\", \"id\": 289...  ...   162.0   \n",
       "1     [{\"name\": \"Walt Disney Pictures\", \"id\": 2}, {\"...  ...   169.0   \n",
       "2     [{\"name\": \"Columbia Pictures\", \"id\": 5}, {\"nam...  ...   148.0   \n",
       "3     [{\"name\": \"Legendary Pictures\", \"id\": 923}, {\"...  ...   165.0   \n",
       "4           [{\"name\": \"Walt Disney Pictures\", \"id\": 2}]  ...   132.0   \n",
       "...                                                 ...  ...     ...   \n",
       "4804           [{\"name\": \"Columbia Pictures\", \"id\": 5}]  ...    81.0   \n",
       "4805                                                 []  ...    85.0   \n",
       "4806  [{\"name\": \"Front Street Pictures\", \"id\": 3958}...  ...   120.0   \n",
       "4807                                                 []  ...    98.0   \n",
       "4808  [{\"name\": \"rusty bear entertainment\", \"id\": 87...  ...    90.0   \n",
       "\n",
       "                                       spoken_languages    status  \\\n",
       "0     [{\"iso_639_1\": \"en\", \"name\": \"English\"}, {\"iso...  Released   \n",
       "1              [{\"iso_639_1\": \"en\", \"name\": \"English\"}]  Released   \n",
       "2     [{\"iso_639_1\": \"fr\", \"name\": \"Fran\\u00e7ais\"},...  Released   \n",
       "3              [{\"iso_639_1\": \"en\", \"name\": \"English\"}]  Released   \n",
       "4              [{\"iso_639_1\": \"en\", \"name\": \"English\"}]  Released   \n",
       "...                                                 ...       ...   \n",
       "4804      [{\"iso_639_1\": \"es\", \"name\": \"Espa\\u00f1ol\"}]  Released   \n",
       "4805                                                 []  Released   \n",
       "4806           [{\"iso_639_1\": \"en\", \"name\": \"English\"}]  Released   \n",
       "4807           [{\"iso_639_1\": \"en\", \"name\": \"English\"}]  Released   \n",
       "4808           [{\"iso_639_1\": \"en\", \"name\": \"English\"}]  Released   \n",
       "\n",
       "                                                tagline  \\\n",
       "0                           Enter the World of Pandora.   \n",
       "1        At the end of the world, the adventure begins.   \n",
       "2                                 A Plan No One Escapes   \n",
       "3                                       The Legend Ends   \n",
       "4                  Lost in our world, found in another.   \n",
       "...                                                 ...   \n",
       "4804  He didn't come looking for trouble, but troubl...   \n",
       "4805  A newlywed couple's honeymoon is upended by th...   \n",
       "4806                                                NaN   \n",
       "4807                           A New Yorker in Shanghai   \n",
       "4808                                                NaN   \n",
       "\n",
       "                                         title vote_average vote_count  \\\n",
       "0                                       Avatar          7.2      11800   \n",
       "1     Pirates of the Caribbean: At World's End          6.9       4500   \n",
       "2                                      Spectre          6.3       4466   \n",
       "3                        The Dark Knight Rises          7.6       9106   \n",
       "4                                  John Carter          6.1       2124   \n",
       "...                                        ...          ...        ...   \n",
       "4804                               El Mariachi          6.6        238   \n",
       "4805                                 Newlyweds          5.9          5   \n",
       "4806                 Signed, Sealed, Delivered          7.0          6   \n",
       "4807                          Shanghai Calling          5.7          7   \n",
       "4808                         My Date with Drew          6.3         16   \n",
       "\n",
       "     movie_id                                               cast  \\\n",
       "0       19995  [{\"cast_id\": 242, \"character\": \"Jake Sully\", \"...   \n",
       "1         285  [{\"cast_id\": 4, \"character\": \"Captain Jack Spa...   \n",
       "2      206647  [{\"cast_id\": 1, \"character\": \"James Bond\", \"cr...   \n",
       "3       49026  [{\"cast_id\": 2, \"character\": \"Bruce Wayne / Ba...   \n",
       "4       49529  [{\"cast_id\": 5, \"character\": \"John Carter\", \"c...   \n",
       "...       ...                                                ...   \n",
       "4804     9367  [{\"cast_id\": 1, \"character\": \"El Mariachi\", \"c...   \n",
       "4805    72766  [{\"cast_id\": 1, \"character\": \"Buzzy\", \"credit_...   \n",
       "4806   231617  [{\"cast_id\": 8, \"character\": \"Oliver O\\u2019To...   \n",
       "4807   126186  [{\"cast_id\": 3, \"character\": \"Sam\", \"credit_id...   \n",
       "4808    25975  [{\"cast_id\": 3, \"character\": \"Herself\", \"credi...   \n",
       "\n",
       "                                                   crew  \n",
       "0     [{\"credit_id\": \"52fe48009251416c750aca23\", \"de...  \n",
       "1     [{\"credit_id\": \"52fe4232c3a36847f800b579\", \"de...  \n",
       "2     [{\"credit_id\": \"54805967c3a36829b5002c41\", \"de...  \n",
       "3     [{\"credit_id\": \"52fe4781c3a36847f81398c3\", \"de...  \n",
       "4     [{\"credit_id\": \"52fe479ac3a36847f813eaa3\", \"de...  \n",
       "...                                                 ...  \n",
       "4804  [{\"credit_id\": \"52fe44eec3a36847f80b280b\", \"de...  \n",
       "4805  [{\"credit_id\": \"52fe487dc3a368484e0fb013\", \"de...  \n",
       "4806  [{\"credit_id\": \"52fe4df3c3a36847f8275ecf\", \"de...  \n",
       "4807  [{\"credit_id\": \"52fe4ad9c3a368484e16a36b\", \"de...  \n",
       "4808  [{\"credit_id\": \"58ce021b9251415a390165d9\", \"de...  \n",
       "\n",
       "[4809 rows x 23 columns]"
      ]
     },
     "execution_count": 5,
     "metadata": {},
     "output_type": "execute_result"
    }
   ],
   "source": [
    "movies.merge(credits, on='title')"
   ]
  },
  {
   "cell_type": "code",
   "execution_count": 6,
   "metadata": {},
   "outputs": [
    {
     "name": "stdout",
     "output_type": "stream",
     "text": [
      "<class 'pandas.core.frame.DataFrame'>\n",
      "RangeIndex: 4803 entries, 0 to 4802\n",
      "Data columns (total 20 columns):\n",
      " #   Column                Non-Null Count  Dtype  \n",
      "---  ------                --------------  -----  \n",
      " 0   budget                4803 non-null   int64  \n",
      " 1   genres                4803 non-null   object \n",
      " 2   homepage              1712 non-null   object \n",
      " 3   id                    4803 non-null   int64  \n",
      " 4   keywords              4803 non-null   object \n",
      " 5   original_language     4803 non-null   object \n",
      " 6   original_title        4803 non-null   object \n",
      " 7   overview              4800 non-null   object \n",
      " 8   popularity            4803 non-null   float64\n",
      " 9   production_companies  4803 non-null   object \n",
      " 10  production_countries  4803 non-null   object \n",
      " 11  release_date          4802 non-null   object \n",
      " 12  revenue               4803 non-null   int64  \n",
      " 13  runtime               4801 non-null   float64\n",
      " 14  spoken_languages      4803 non-null   object \n",
      " 15  status                4803 non-null   object \n",
      " 16  tagline               3959 non-null   object \n",
      " 17  title                 4803 non-null   object \n",
      " 18  vote_average          4803 non-null   float64\n",
      " 19  vote_count            4803 non-null   int64  \n",
      "dtypes: float64(3), int64(4), object(13)\n",
      "memory usage: 750.6+ KB\n"
     ]
    }
   ],
   "source": [
    "movies.info()"
   ]
  },
  {
   "cell_type": "code",
   "execution_count": 7,
   "metadata": {},
   "outputs": [
    {
     "data": {
      "text/plain": [
       "budget                     0\n",
       "genres                     0\n",
       "homepage                3091\n",
       "id                         0\n",
       "keywords                   0\n",
       "original_language          0\n",
       "original_title             0\n",
       "overview                   3\n",
       "popularity                 0\n",
       "production_companies       0\n",
       "production_countries       0\n",
       "release_date               1\n",
       "revenue                    0\n",
       "runtime                    2\n",
       "spoken_languages           0\n",
       "status                     0\n",
       "tagline                  844\n",
       "title                      0\n",
       "vote_average               0\n",
       "vote_count                 0\n",
       "dtype: int64"
      ]
     },
     "execution_count": 7,
     "metadata": {},
     "output_type": "execute_result"
    }
   ],
   "source": [
    "movies.isnull().sum()"
   ]
  },
  {
   "cell_type": "code",
   "execution_count": 17,
   "metadata": {},
   "outputs": [],
   "source": [
    "movies=movies[['id', 'title', 'overview', 'genres', 'keywords']]"
   ]
  },
  {
   "cell_type": "code",
   "execution_count": 18,
   "metadata": {},
   "outputs": [
    {
     "name": "stdout",
     "output_type": "stream",
     "text": [
      "<class 'pandas.core.frame.DataFrame'>\n",
      "RangeIndex: 4803 entries, 0 to 4802\n",
      "Data columns (total 5 columns):\n",
      " #   Column    Non-Null Count  Dtype \n",
      "---  ------    --------------  ----- \n",
      " 0   id        4803 non-null   int64 \n",
      " 1   title     4803 non-null   object\n",
      " 2   overview  4800 non-null   object\n",
      " 3   genres    4803 non-null   object\n",
      " 4   keywords  4803 non-null   object\n",
      "dtypes: int64(1), object(4)\n",
      "memory usage: 187.7+ KB\n"
     ]
    }
   ],
   "source": [
    "movies.info()"
   ]
  },
  {
   "cell_type": "code",
   "execution_count": 24,
   "metadata": {},
   "outputs": [
    {
     "data": {
      "text/plain": [
       "id          0\n",
       "title       0\n",
       "overview    3\n",
       "genres      0\n",
       "keywords    0\n",
       "dtype: int64"
      ]
     },
     "execution_count": 24,
     "metadata": {},
     "output_type": "execute_result"
    }
   ],
   "source": [
    "movies.isnull().sum()"
   ]
  },
  {
   "cell_type": "code",
   "execution_count": 25,
   "metadata": {},
   "outputs": [],
   "source": [
    "movies=movies.dropna()"
   ]
  },
  {
   "cell_type": "code",
   "execution_count": 26,
   "metadata": {},
   "outputs": [
    {
     "data": {
      "text/plain": [
       "id          0\n",
       "title       0\n",
       "overview    0\n",
       "genres      0\n",
       "keywords    0\n",
       "dtype: int64"
      ]
     },
     "execution_count": 26,
     "metadata": {},
     "output_type": "execute_result"
    }
   ],
   "source": [
    "movies.isnull().sum()"
   ]
  },
  {
   "cell_type": "code",
   "execution_count": 27,
   "metadata": {},
   "outputs": [
    {
     "data": {
      "text/plain": [
       "0"
      ]
     },
     "execution_count": 27,
     "metadata": {},
     "output_type": "execute_result"
    }
   ],
   "source": [
    "movies.duplicated().sum()"
   ]
  },
  {
   "cell_type": "code",
   "execution_count": 33,
   "metadata": {},
   "outputs": [],
   "source": [
    "def convert(obj):\n",
    "    l=[]\n",
    "    for i in ast.literal_eval(obj):\n",
    "        l.append(i['name'])\n",
    "    return l"
   ]
  },
  {
   "cell_type": "code",
   "execution_count": 29,
   "metadata": {},
   "outputs": [
    {
     "data": {
      "text/plain": [
       "'[{\"id\": 28, \"name\": \"Action\"}, {\"id\": 12, \"name\": \"Adventure\"}, {\"id\": 14, \"name\": \"Fantasy\"}, {\"id\": 878, \"name\": \"Science Fiction\"}]'"
      ]
     },
     "execution_count": 29,
     "metadata": {},
     "output_type": "execute_result"
    }
   ],
   "source": [
    "movies.iloc[0].genres"
   ]
  },
  {
   "cell_type": "code",
   "execution_count": 34,
   "metadata": {},
   "outputs": [
    {
     "data": {
      "text/plain": [
       "['Action', 'Adventure', 'Fantasy', 'Science Fiction']"
      ]
     },
     "execution_count": 34,
     "metadata": {},
     "output_type": "execute_result"
    }
   ],
   "source": [
    "convert('[{\"id\": 28, \"name\": \"Action\"}, {\"id\": 12, \"name\": \"Adventure\"}, {\"id\": 14, \"name\": \"Fantasy\"}, {\"id\": 878, \"name\": \"Science Fiction\"}]')"
   ]
  },
  {
   "cell_type": "code",
   "execution_count": 36,
   "metadata": {},
   "outputs": [
    {
     "data": {
      "text/plain": [
       "0       [Action, Adventure, Fantasy, Science Fiction]\n",
       "1                        [Adventure, Fantasy, Action]\n",
       "2                          [Action, Adventure, Crime]\n",
       "3                    [Action, Crime, Drama, Thriller]\n",
       "4                [Action, Adventure, Science Fiction]\n",
       "                            ...                      \n",
       "4798                        [Action, Crime, Thriller]\n",
       "4799                                [Comedy, Romance]\n",
       "4800               [Comedy, Drama, Romance, TV Movie]\n",
       "4801                                               []\n",
       "4802                                    [Documentary]\n",
       "Name: genres, Length: 4800, dtype: object"
      ]
     },
     "execution_count": 36,
     "metadata": {},
     "output_type": "execute_result"
    }
   ],
   "source": [
    "movies['genres'].apply(convert)"
   ]
  },
  {
   "cell_type": "code",
   "execution_count": 37,
   "metadata": {},
   "outputs": [
    {
     "data": {
      "text/plain": [
       "0       [culture clash, future, space war, space colon...\n",
       "1       [ocean, drug abuse, exotic island, east india ...\n",
       "2       [spy, based on novel, secret agent, sequel, mi...\n",
       "3       [dc comics, crime fighter, terrorist, secret i...\n",
       "4       [based on novel, mars, medallion, space travel...\n",
       "                              ...                        \n",
       "4798    [united states–mexico barrier, legs, arms, pap...\n",
       "4799                                                   []\n",
       "4800    [date, love at first sight, narration, investi...\n",
       "4801                                                   []\n",
       "4802            [obsession, camcorder, crush, dream girl]\n",
       "Name: keywords, Length: 4800, dtype: object"
      ]
     },
     "execution_count": 37,
     "metadata": {},
     "output_type": "execute_result"
    }
   ],
   "source": [
    "movies['keywords'].apply(convert)"
   ]
  },
  {
   "cell_type": "code",
   "execution_count": 41,
   "metadata": {},
   "outputs": [
    {
     "data": {
      "text/plain": [
       "0       [In, the, 22nd, century,, a, paraplegic, Marin...\n",
       "1       [Captain, Barbossa,, long, believed, to, be, d...\n",
       "2       [A, cryptic, message, from, Bond’s, past, send...\n",
       "3       [Following, the, death, of, District, Attorney...\n",
       "4       [John, Carter, is, a, war-weary,, former, mili...\n",
       "                              ...                        \n",
       "4798    [El, Mariachi, just, wants, to, play, his, gui...\n",
       "4799    [A, newlywed, couple's, honeymoon, is, upended...\n",
       "4800    [\"Signed,, Sealed,, Delivered\", introduces, a,...\n",
       "4801    [When, ambitious, New, York, attorney, Sam, is...\n",
       "4802    [Ever, since, the, second, grade, when, he, fi...\n",
       "Name: overview, Length: 4800, dtype: object"
      ]
     },
     "execution_count": 41,
     "metadata": {},
     "output_type": "execute_result"
    }
   ],
   "source": [
    "movies['overview']"
   ]
  },
  {
   "cell_type": "code",
   "execution_count": 59,
   "metadata": {},
   "outputs": [
    {
     "data": {
      "text/plain": [
       "0       <generator object <lambda>.<locals>.<genexpr> ...\n",
       "1       <generator object <lambda>.<locals>.<genexpr> ...\n",
       "2       <generator object <lambda>.<locals>.<genexpr> ...\n",
       "3       <generator object <lambda>.<locals>.<genexpr> ...\n",
       "4       <generator object <lambda>.<locals>.<genexpr> ...\n",
       "                              ...                        \n",
       "4798    <generator object <lambda>.<locals>.<genexpr> ...\n",
       "4799    <generator object <lambda>.<locals>.<genexpr> ...\n",
       "4800    <generator object <lambda>.<locals>.<genexpr> ...\n",
       "4801    <generator object <lambda>.<locals>.<genexpr> ...\n",
       "4802    <generator object <lambda>.<locals>.<genexpr> ...\n",
       "Name: genres, Length: 4800, dtype: object"
      ]
     },
     "execution_count": 59,
     "metadata": {},
     "output_type": "execute_result"
    }
   ],
   "source": [
    "movies['genres']"
   ]
  },
  {
   "cell_type": "code",
   "execution_count": 60,
   "metadata": {},
   "outputs": [],
   "source": [
    "movies_o=pd.read_csv('tmdb_5000_movies.csv')"
   ]
  },
  {
   "cell_type": "code",
   "execution_count": 61,
   "metadata": {},
   "outputs": [
    {
     "name": "stderr",
     "output_type": "stream",
     "text": [
      "C:\\Users\\kalas\\AppData\\Local\\Temp\\ipykernel_52092\\749253569.py:1: SettingWithCopyWarning: \n",
      "A value is trying to be set on a copy of a slice from a DataFrame.\n",
      "Try using .loc[row_indexer,col_indexer] = value instead\n",
      "\n",
      "See the caveats in the documentation: https://pandas.pydata.org/pandas-docs/stable/user_guide/indexing.html#returning-a-view-versus-a-copy\n",
      "  movies['genres']=movies_o['genres']\n"
     ]
    }
   ],
   "source": [
    "movies['genres']=movies_o['genres']"
   ]
  },
  {
   "cell_type": "code",
   "execution_count": 62,
   "metadata": {},
   "outputs": [
    {
     "data": {
      "text/plain": [
       "0       [{\"id\": 28, \"name\": \"Action\"}, {\"id\": 12, \"nam...\n",
       "1       [{\"id\": 12, \"name\": \"Adventure\"}, {\"id\": 14, \"...\n",
       "2       [{\"id\": 28, \"name\": \"Action\"}, {\"id\": 12, \"nam...\n",
       "3       [{\"id\": 28, \"name\": \"Action\"}, {\"id\": 80, \"nam...\n",
       "4       [{\"id\": 28, \"name\": \"Action\"}, {\"id\": 12, \"nam...\n",
       "                              ...                        \n",
       "4798    [{\"id\": 28, \"name\": \"Action\"}, {\"id\": 80, \"nam...\n",
       "4799    [{\"id\": 35, \"name\": \"Comedy\"}, {\"id\": 10749, \"...\n",
       "4800    [{\"id\": 35, \"name\": \"Comedy\"}, {\"id\": 18, \"nam...\n",
       "4801                                                   []\n",
       "4802                  [{\"id\": 99, \"name\": \"Documentary\"}]\n",
       "Name: genres, Length: 4800, dtype: object"
      ]
     },
     "execution_count": 62,
     "metadata": {},
     "output_type": "execute_result"
    }
   ],
   "source": [
    "movies['genres']"
   ]
  },
  {
   "cell_type": "code",
   "execution_count": 63,
   "metadata": {},
   "outputs": [
    {
     "data": {
      "text/plain": [
       "0       [Action, Adventure, Fantasy, Science Fiction]\n",
       "1                        [Adventure, Fantasy, Action]\n",
       "2                          [Action, Adventure, Crime]\n",
       "3                    [Action, Crime, Drama, Thriller]\n",
       "4                [Action, Adventure, Science Fiction]\n",
       "                            ...                      \n",
       "4798                        [Action, Crime, Thriller]\n",
       "4799                                [Comedy, Romance]\n",
       "4800               [Comedy, Drama, Romance, TV Movie]\n",
       "4801                                               []\n",
       "4802                                    [Documentary]\n",
       "Name: genres, Length: 4800, dtype: object"
      ]
     },
     "execution_count": 63,
     "metadata": {},
     "output_type": "execute_result"
    }
   ],
   "source": [
    "movies['genres'].apply(convert)"
   ]
  },
  {
   "cell_type": "code",
   "execution_count": 64,
   "metadata": {},
   "outputs": [
    {
     "name": "stderr",
     "output_type": "stream",
     "text": [
      "C:\\Users\\kalas\\AppData\\Local\\Temp\\ipykernel_52092\\1189516248.py:1: SettingWithCopyWarning: \n",
      "A value is trying to be set on a copy of a slice from a DataFrame.\n",
      "Try using .loc[row_indexer,col_indexer] = value instead\n",
      "\n",
      "See the caveats in the documentation: https://pandas.pydata.org/pandas-docs/stable/user_guide/indexing.html#returning-a-view-versus-a-copy\n",
      "  movies['genres'] = movies['genres'].apply(convert)\n"
     ]
    }
   ],
   "source": [
    "movies['genres'] = movies['genres'].apply(convert)"
   ]
  },
  {
   "cell_type": "code",
   "execution_count": 65,
   "metadata": {},
   "outputs": [
    {
     "data": {
      "text/plain": [
       "0       [Action, Adventure, Fantasy, Science Fiction]\n",
       "1                        [Adventure, Fantasy, Action]\n",
       "2                          [Action, Adventure, Crime]\n",
       "3                    [Action, Crime, Drama, Thriller]\n",
       "4                [Action, Adventure, Science Fiction]\n",
       "                            ...                      \n",
       "4798                        [Action, Crime, Thriller]\n",
       "4799                                [Comedy, Romance]\n",
       "4800               [Comedy, Drama, Romance, TV Movie]\n",
       "4801                                               []\n",
       "4802                                    [Documentary]\n",
       "Name: genres, Length: 4800, dtype: object"
      ]
     },
     "execution_count": 65,
     "metadata": {},
     "output_type": "execute_result"
    }
   ],
   "source": [
    "movies['genres']"
   ]
  },
  {
   "cell_type": "code",
   "execution_count": 66,
   "metadata": {},
   "outputs": [
    {
     "name": "stderr",
     "output_type": "stream",
     "text": [
      "C:\\Users\\kalas\\AppData\\Local\\Temp\\ipykernel_52092\\3008432447.py:1: SettingWithCopyWarning: \n",
      "A value is trying to be set on a copy of a slice from a DataFrame.\n",
      "Try using .loc[row_indexer,col_indexer] = value instead\n",
      "\n",
      "See the caveats in the documentation: https://pandas.pydata.org/pandas-docs/stable/user_guide/indexing.html#returning-a-view-versus-a-copy\n",
      "  movies.loc[:, 'genres'] = movies['genres'].apply(lambda x: [i.replace(\" \", \"\") for i in x])\n"
     ]
    }
   ],
   "source": [
    "movies.loc[:, 'genres'] = movies['genres'].apply(lambda x: [i.replace(\" \", \"\") for i in x])"
   ]
  },
  {
   "cell_type": "code",
   "execution_count": 67,
   "metadata": {},
   "outputs": [
    {
     "data": {
      "text/plain": [
       "0       [Action, Adventure, Fantasy, ScienceFiction]\n",
       "1                       [Adventure, Fantasy, Action]\n",
       "2                         [Action, Adventure, Crime]\n",
       "3                   [Action, Crime, Drama, Thriller]\n",
       "4                [Action, Adventure, ScienceFiction]\n",
       "                            ...                     \n",
       "4798                       [Action, Crime, Thriller]\n",
       "4799                               [Comedy, Romance]\n",
       "4800               [Comedy, Drama, Romance, TVMovie]\n",
       "4801                                              []\n",
       "4802                                   [Documentary]\n",
       "Name: genres, Length: 4800, dtype: object"
      ]
     },
     "execution_count": 67,
     "metadata": {},
     "output_type": "execute_result"
    }
   ],
   "source": [
    "movies['genres']"
   ]
  },
  {
   "cell_type": "code",
   "execution_count": 68,
   "metadata": {},
   "outputs": [
    {
     "name": "stderr",
     "output_type": "stream",
     "text": [
      "C:\\Users\\kalas\\AppData\\Local\\Temp\\ipykernel_52092\\3526394133.py:1: SettingWithCopyWarning: \n",
      "A value is trying to be set on a copy of a slice from a DataFrame.\n",
      "Try using .loc[row_indexer,col_indexer] = value instead\n",
      "\n",
      "See the caveats in the documentation: https://pandas.pydata.org/pandas-docs/stable/user_guide/indexing.html#returning-a-view-versus-a-copy\n",
      "  movies['overview']=movies_o['overview']\n"
     ]
    }
   ],
   "source": [
    "movies['overview']=movies_o['overview']"
   ]
  },
  {
   "cell_type": "code",
   "execution_count": 69,
   "metadata": {},
   "outputs": [
    {
     "data": {
      "text/plain": [
       "0       In the 22nd century, a paraplegic Marine is di...\n",
       "1       Captain Barbossa, long believed to be dead, ha...\n",
       "2       A cryptic message from Bond’s past sends him o...\n",
       "3       Following the death of District Attorney Harve...\n",
       "4       John Carter is a war-weary, former military ca...\n",
       "                              ...                        \n",
       "4798    El Mariachi just wants to play his guitar and ...\n",
       "4799    A newlywed couple's honeymoon is upended by th...\n",
       "4800    \"Signed, Sealed, Delivered\" introduces a dedic...\n",
       "4801    When ambitious New York attorney Sam is sent t...\n",
       "4802    Ever since the second grade when he first saw ...\n",
       "Name: overview, Length: 4800, dtype: object"
      ]
     },
     "execution_count": 69,
     "metadata": {},
     "output_type": "execute_result"
    }
   ],
   "source": [
    "movies['overview']"
   ]
  },
  {
   "cell_type": "code",
   "execution_count": 70,
   "metadata": {},
   "outputs": [
    {
     "name": "stderr",
     "output_type": "stream",
     "text": [
      "C:\\Users\\kalas\\AppData\\Local\\Temp\\ipykernel_52092\\1104793012.py:1: SettingWithCopyWarning: \n",
      "A value is trying to be set on a copy of a slice from a DataFrame.\n",
      "Try using .loc[row_indexer,col_indexer] = value instead\n",
      "\n",
      "See the caveats in the documentation: https://pandas.pydata.org/pandas-docs/stable/user_guide/indexing.html#returning-a-view-versus-a-copy\n",
      "  movies['overview']=movies['overview'].apply(lambda x:x.split())\n"
     ]
    }
   ],
   "source": [
    "movies['overview']=movies['overview'].apply(lambda x:x.split())"
   ]
  },
  {
   "cell_type": "code",
   "execution_count": 71,
   "metadata": {},
   "outputs": [
    {
     "data": {
      "text/plain": [
       "0       [In, the, 22nd, century,, a, paraplegic, Marin...\n",
       "1       [Captain, Barbossa,, long, believed, to, be, d...\n",
       "2       [A, cryptic, message, from, Bond’s, past, send...\n",
       "3       [Following, the, death, of, District, Attorney...\n",
       "4       [John, Carter, is, a, war-weary,, former, mili...\n",
       "                              ...                        \n",
       "4798    [El, Mariachi, just, wants, to, play, his, gui...\n",
       "4799    [A, newlywed, couple's, honeymoon, is, upended...\n",
       "4800    [\"Signed,, Sealed,, Delivered\", introduces, a,...\n",
       "4801    [When, ambitious, New, York, attorney, Sam, is...\n",
       "4802    [Ever, since, the, second, grade, when, he, fi...\n",
       "Name: overview, Length: 4800, dtype: object"
      ]
     },
     "execution_count": 71,
     "metadata": {},
     "output_type": "execute_result"
    }
   ],
   "source": [
    "movies['overview']"
   ]
  },
  {
   "cell_type": "code",
   "execution_count": 72,
   "metadata": {},
   "outputs": [
    {
     "name": "stderr",
     "output_type": "stream",
     "text": [
      "C:\\Users\\kalas\\AppData\\Local\\Temp\\ipykernel_52092\\2900477392.py:1: SettingWithCopyWarning: \n",
      "A value is trying to be set on a copy of a slice from a DataFrame.\n",
      "Try using .loc[row_indexer,col_indexer] = value instead\n",
      "\n",
      "See the caveats in the documentation: https://pandas.pydata.org/pandas-docs/stable/user_guide/indexing.html#returning-a-view-versus-a-copy\n",
      "  movies.loc[:, 'overview'] = movies['overview'].apply(lambda x: [i.replace(\" \", \"\") for i in x])\n"
     ]
    }
   ],
   "source": [
    "movies.loc[:, 'overview'] = movies['overview'].apply(lambda x: [i.replace(\" \", \"\") for i in x])"
   ]
  },
  {
   "cell_type": "code",
   "execution_count": 73,
   "metadata": {},
   "outputs": [
    {
     "data": {
      "text/plain": [
       "0       [In, the, 22nd, century,, a, paraplegic, Marin...\n",
       "1       [Captain, Barbossa,, long, believed, to, be, d...\n",
       "2       [A, cryptic, message, from, Bond’s, past, send...\n",
       "3       [Following, the, death, of, District, Attorney...\n",
       "4       [John, Carter, is, a, war-weary,, former, mili...\n",
       "                              ...                        \n",
       "4798    [El, Mariachi, just, wants, to, play, his, gui...\n",
       "4799    [A, newlywed, couple's, honeymoon, is, upended...\n",
       "4800    [\"Signed,, Sealed,, Delivered\", introduces, a,...\n",
       "4801    [When, ambitious, New, York, attorney, Sam, is...\n",
       "4802    [Ever, since, the, second, grade, when, he, fi...\n",
       "Name: overview, Length: 4800, dtype: object"
      ]
     },
     "execution_count": 73,
     "metadata": {},
     "output_type": "execute_result"
    }
   ],
   "source": [
    "movies['overview']"
   ]
  },
  {
   "cell_type": "code",
   "execution_count": 75,
   "metadata": {},
   "outputs": [
    {
     "name": "stderr",
     "output_type": "stream",
     "text": [
      "C:\\Users\\kalas\\AppData\\Local\\Temp\\ipykernel_52092\\515779774.py:1: SettingWithCopyWarning: \n",
      "A value is trying to be set on a copy of a slice from a DataFrame.\n",
      "Try using .loc[row_indexer,col_indexer] = value instead\n",
      "\n",
      "See the caveats in the documentation: https://pandas.pydata.org/pandas-docs/stable/user_guide/indexing.html#returning-a-view-versus-a-copy\n",
      "  movies['keywords']=movies_o['keywords']\n"
     ]
    }
   ],
   "source": [
    "movies['keywords']=movies_o['keywords']"
   ]
  },
  {
   "cell_type": "code",
   "execution_count": 76,
   "metadata": {},
   "outputs": [
    {
     "data": {
      "text/plain": [
       "0       [{\"id\": 1463, \"name\": \"culture clash\"}, {\"id\":...\n",
       "1       [{\"id\": 270, \"name\": \"ocean\"}, {\"id\": 726, \"na...\n",
       "2       [{\"id\": 470, \"name\": \"spy\"}, {\"id\": 818, \"name...\n",
       "3       [{\"id\": 849, \"name\": \"dc comics\"}, {\"id\": 853,...\n",
       "4       [{\"id\": 818, \"name\": \"based on novel\"}, {\"id\":...\n",
       "                              ...                        \n",
       "4798    [{\"id\": 5616, \"name\": \"united states\\u2013mexi...\n",
       "4799                                                   []\n",
       "4800    [{\"id\": 248, \"name\": \"date\"}, {\"id\": 699, \"nam...\n",
       "4801                                                   []\n",
       "4802    [{\"id\": 1523, \"name\": \"obsession\"}, {\"id\": 224...\n",
       "Name: keywords, Length: 4800, dtype: object"
      ]
     },
     "execution_count": 76,
     "metadata": {},
     "output_type": "execute_result"
    }
   ],
   "source": [
    "movies['keywords']"
   ]
  },
  {
   "cell_type": "code",
   "execution_count": 77,
   "metadata": {},
   "outputs": [
    {
     "data": {
      "text/plain": [
       "0       [culture clash, future, space war, space colon...\n",
       "1       [ocean, drug abuse, exotic island, east india ...\n",
       "2       [spy, based on novel, secret agent, sequel, mi...\n",
       "3       [dc comics, crime fighter, terrorist, secret i...\n",
       "4       [based on novel, mars, medallion, space travel...\n",
       "                              ...                        \n",
       "4798    [united states–mexico barrier, legs, arms, pap...\n",
       "4799                                                   []\n",
       "4800    [date, love at first sight, narration, investi...\n",
       "4801                                                   []\n",
       "4802            [obsession, camcorder, crush, dream girl]\n",
       "Name: keywords, Length: 4800, dtype: object"
      ]
     },
     "execution_count": 77,
     "metadata": {},
     "output_type": "execute_result"
    }
   ],
   "source": [
    "movies['keywords'].apply(convert)"
   ]
  },
  {
   "cell_type": "code",
   "execution_count": 79,
   "metadata": {},
   "outputs": [
    {
     "name": "stderr",
     "output_type": "stream",
     "text": [
      "C:\\Users\\kalas\\AppData\\Local\\Temp\\ipykernel_52092\\1621871954.py:1: SettingWithCopyWarning: \n",
      "A value is trying to be set on a copy of a slice from a DataFrame.\n",
      "Try using .loc[row_indexer,col_indexer] = value instead\n",
      "\n",
      "See the caveats in the documentation: https://pandas.pydata.org/pandas-docs/stable/user_guide/indexing.html#returning-a-view-versus-a-copy\n",
      "  movies['keywords']=movies['keywords'].apply(convert)\n"
     ]
    }
   ],
   "source": [
    "movies['keywords']=movies['keywords'].apply(convert)"
   ]
  },
  {
   "cell_type": "code",
   "execution_count": 80,
   "metadata": {},
   "outputs": [
    {
     "data": {
      "text/plain": [
       "0       [culture clash, future, space war, space colon...\n",
       "1       [ocean, drug abuse, exotic island, east india ...\n",
       "2       [spy, based on novel, secret agent, sequel, mi...\n",
       "3       [dc comics, crime fighter, terrorist, secret i...\n",
       "4       [based on novel, mars, medallion, space travel...\n",
       "                              ...                        \n",
       "4798    [united states–mexico barrier, legs, arms, pap...\n",
       "4799                                                   []\n",
       "4800    [date, love at first sight, narration, investi...\n",
       "4801                                                   []\n",
       "4802            [obsession, camcorder, crush, dream girl]\n",
       "Name: keywords, Length: 4800, dtype: object"
      ]
     },
     "execution_count": 80,
     "metadata": {},
     "output_type": "execute_result"
    }
   ],
   "source": [
    "movies['keywords']"
   ]
  },
  {
   "cell_type": "code",
   "execution_count": 81,
   "metadata": {},
   "outputs": [
    {
     "name": "stderr",
     "output_type": "stream",
     "text": [
      "C:\\Users\\kalas\\AppData\\Local\\Temp\\ipykernel_52092\\694213704.py:1: SettingWithCopyWarning: \n",
      "A value is trying to be set on a copy of a slice from a DataFrame.\n",
      "Try using .loc[row_indexer,col_indexer] = value instead\n",
      "\n",
      "See the caveats in the documentation: https://pandas.pydata.org/pandas-docs/stable/user_guide/indexing.html#returning-a-view-versus-a-copy\n",
      "  movies.loc[:, 'keywords']=movies['keywords'].apply(lambda x:(i.replace(\" \",\"\") for i in x))\n"
     ]
    }
   ],
   "source": [
    "movies.loc[:, 'keywords']=movies['keywords'].apply(lambda x:(i.replace(\" \",\"\") for i in x))"
   ]
  },
  {
   "cell_type": "code",
   "execution_count": 83,
   "metadata": {},
   "outputs": [
    {
     "data": {
      "text/plain": [
       "0       <generator object <lambda>.<locals>.<genexpr> ...\n",
       "1       <generator object <lambda>.<locals>.<genexpr> ...\n",
       "2       <generator object <lambda>.<locals>.<genexpr> ...\n",
       "3       <generator object <lambda>.<locals>.<genexpr> ...\n",
       "4       <generator object <lambda>.<locals>.<genexpr> ...\n",
       "                              ...                        \n",
       "4798    <generator object <lambda>.<locals>.<genexpr> ...\n",
       "4799    <generator object <lambda>.<locals>.<genexpr> ...\n",
       "4800    <generator object <lambda>.<locals>.<genexpr> ...\n",
       "4801    <generator object <lambda>.<locals>.<genexpr> ...\n",
       "4802    <generator object <lambda>.<locals>.<genexpr> ...\n",
       "Name: keywords, Length: 4800, dtype: object"
      ]
     },
     "execution_count": 83,
     "metadata": {},
     "output_type": "execute_result"
    }
   ],
   "source": [
    "movies['keywords']"
   ]
  },
  {
   "cell_type": "code",
   "execution_count": 84,
   "metadata": {},
   "outputs": [
    {
     "name": "stderr",
     "output_type": "stream",
     "text": [
      "C:\\Users\\kalas\\AppData\\Local\\Temp\\ipykernel_52092\\515779774.py:1: SettingWithCopyWarning: \n",
      "A value is trying to be set on a copy of a slice from a DataFrame.\n",
      "Try using .loc[row_indexer,col_indexer] = value instead\n",
      "\n",
      "See the caveats in the documentation: https://pandas.pydata.org/pandas-docs/stable/user_guide/indexing.html#returning-a-view-versus-a-copy\n",
      "  movies['keywords']=movies_o['keywords']\n"
     ]
    }
   ],
   "source": [
    "movies['keywords']=movies_o['keywords']"
   ]
  },
  {
   "cell_type": "code",
   "execution_count": 85,
   "metadata": {},
   "outputs": [
    {
     "data": {
      "text/plain": [
       "0       [{\"id\": 1463, \"name\": \"culture clash\"}, {\"id\":...\n",
       "1       [{\"id\": 270, \"name\": \"ocean\"}, {\"id\": 726, \"na...\n",
       "2       [{\"id\": 470, \"name\": \"spy\"}, {\"id\": 818, \"name...\n",
       "3       [{\"id\": 849, \"name\": \"dc comics\"}, {\"id\": 853,...\n",
       "4       [{\"id\": 818, \"name\": \"based on novel\"}, {\"id\":...\n",
       "                              ...                        \n",
       "4798    [{\"id\": 5616, \"name\": \"united states\\u2013mexi...\n",
       "4799                                                   []\n",
       "4800    [{\"id\": 248, \"name\": \"date\"}, {\"id\": 699, \"nam...\n",
       "4801                                                   []\n",
       "4802    [{\"id\": 1523, \"name\": \"obsession\"}, {\"id\": 224...\n",
       "Name: keywords, Length: 4800, dtype: object"
      ]
     },
     "execution_count": 85,
     "metadata": {},
     "output_type": "execute_result"
    }
   ],
   "source": [
    "movies['keywords']"
   ]
  },
  {
   "cell_type": "code",
   "execution_count": 86,
   "metadata": {},
   "outputs": [
    {
     "name": "stderr",
     "output_type": "stream",
     "text": [
      "C:\\Users\\kalas\\AppData\\Local\\Temp\\ipykernel_52092\\1155239139.py:1: SettingWithCopyWarning: \n",
      "A value is trying to be set on a copy of a slice from a DataFrame.\n",
      "Try using .loc[row_indexer,col_indexer] = value instead\n",
      "\n",
      "See the caveats in the documentation: https://pandas.pydata.org/pandas-docs/stable/user_guide/indexing.html#returning-a-view-versus-a-copy\n",
      "  movies['kwywords']=movies['keywords'].apply(convert)\n"
     ]
    }
   ],
   "source": [
    "movies['kwywords']=movies['keywords'].apply(convert)"
   ]
  },
  {
   "cell_type": "code",
   "execution_count": 87,
   "metadata": {},
   "outputs": [
    {
     "data": {
      "text/plain": [
       "0       [{\"id\": 1463, \"name\": \"culture clash\"}, {\"id\":...\n",
       "1       [{\"id\": 270, \"name\": \"ocean\"}, {\"id\": 726, \"na...\n",
       "2       [{\"id\": 470, \"name\": \"spy\"}, {\"id\": 818, \"name...\n",
       "3       [{\"id\": 849, \"name\": \"dc comics\"}, {\"id\": 853,...\n",
       "4       [{\"id\": 818, \"name\": \"based on novel\"}, {\"id\":...\n",
       "                              ...                        \n",
       "4798    [{\"id\": 5616, \"name\": \"united states\\u2013mexi...\n",
       "4799                                                   []\n",
       "4800    [{\"id\": 248, \"name\": \"date\"}, {\"id\": 699, \"nam...\n",
       "4801                                                   []\n",
       "4802    [{\"id\": 1523, \"name\": \"obsession\"}, {\"id\": 224...\n",
       "Name: keywords, Length: 4800, dtype: object"
      ]
     },
     "execution_count": 87,
     "metadata": {},
     "output_type": "execute_result"
    }
   ],
   "source": [
    "movies['keywords']"
   ]
  },
  {
   "cell_type": "code",
   "execution_count": 90,
   "metadata": {},
   "outputs": [],
   "source": [
    "movies=movies[['id', 'title', 'overview', 'genres', 'keywords']]"
   ]
  },
  {
   "cell_type": "code",
   "execution_count": 91,
   "metadata": {},
   "outputs": [
    {
     "name": "stderr",
     "output_type": "stream",
     "text": [
      "C:\\Users\\kalas\\AppData\\Local\\Temp\\ipykernel_52092\\1621871954.py:1: SettingWithCopyWarning: \n",
      "A value is trying to be set on a copy of a slice from a DataFrame.\n",
      "Try using .loc[row_indexer,col_indexer] = value instead\n",
      "\n",
      "See the caveats in the documentation: https://pandas.pydata.org/pandas-docs/stable/user_guide/indexing.html#returning-a-view-versus-a-copy\n",
      "  movies['keywords']=movies['keywords'].apply(convert)\n"
     ]
    }
   ],
   "source": [
    "movies['keywords']=movies['keywords'].apply(convert)"
   ]
  },
  {
   "cell_type": "code",
   "execution_count": 92,
   "metadata": {},
   "outputs": [
    {
     "data": {
      "text/plain": [
       "0       [culture clash, future, space war, space colon...\n",
       "1       [ocean, drug abuse, exotic island, east india ...\n",
       "2       [spy, based on novel, secret agent, sequel, mi...\n",
       "3       [dc comics, crime fighter, terrorist, secret i...\n",
       "4       [based on novel, mars, medallion, space travel...\n",
       "                              ...                        \n",
       "4798    [united states–mexico barrier, legs, arms, pap...\n",
       "4799                                                   []\n",
       "4800    [date, love at first sight, narration, investi...\n",
       "4801                                                   []\n",
       "4802            [obsession, camcorder, crush, dream girl]\n",
       "Name: keywords, Length: 4800, dtype: object"
      ]
     },
     "execution_count": 92,
     "metadata": {},
     "output_type": "execute_result"
    }
   ],
   "source": [
    "movies['keywords']"
   ]
  },
  {
   "cell_type": "code",
   "execution_count": 93,
   "metadata": {},
   "outputs": [
    {
     "name": "stderr",
     "output_type": "stream",
     "text": [
      "C:\\Users\\kalas\\AppData\\Local\\Temp\\ipykernel_52092\\1374678334.py:1: SettingWithCopyWarning: \n",
      "A value is trying to be set on a copy of a slice from a DataFrame.\n",
      "Try using .loc[row_indexer,col_indexer] = value instead\n",
      "\n",
      "See the caveats in the documentation: https://pandas.pydata.org/pandas-docs/stable/user_guide/indexing.html#returning-a-view-versus-a-copy\n",
      "  movies['keywords'] = movies['keywords'].apply(lambda x: [word.replace(\" \", \"\") for word in x])\n"
     ]
    }
   ],
   "source": [
    "movies['keywords'] = movies['keywords'].apply(lambda x: [word.replace(\" \", \"\") for word in x])"
   ]
  },
  {
   "cell_type": "code",
   "execution_count": 94,
   "metadata": {},
   "outputs": [
    {
     "data": {
      "text/plain": [
       "0       [cultureclash, future, spacewar, spacecolony, ...\n",
       "1       [ocean, drugabuse, exoticisland, eastindiatrad...\n",
       "2       [spy, basedonnovel, secretagent, sequel, mi6, ...\n",
       "3       [dccomics, crimefighter, terrorist, secretiden...\n",
       "4       [basedonnovel, mars, medallion, spacetravel, p...\n",
       "                              ...                        \n",
       "4798    [unitedstates–mexicobarrier, legs, arms, paper...\n",
       "4799                                                   []\n",
       "4800    [date, loveatfirstsight, narration, investigat...\n",
       "4801                                                   []\n",
       "4802             [obsession, camcorder, crush, dreamgirl]\n",
       "Name: keywords, Length: 4800, dtype: object"
      ]
     },
     "execution_count": 94,
     "metadata": {},
     "output_type": "execute_result"
    }
   ],
   "source": [
    "movies['keywords']"
   ]
  },
  {
   "cell_type": "code",
   "execution_count": 95,
   "metadata": {},
   "outputs": [
    {
     "data": {
      "text/plain": [
       "0       [Action, Adventure, Fantasy, ScienceFiction]\n",
       "1                       [Adventure, Fantasy, Action]\n",
       "2                         [Action, Adventure, Crime]\n",
       "3                   [Action, Crime, Drama, Thriller]\n",
       "4                [Action, Adventure, ScienceFiction]\n",
       "                            ...                     \n",
       "4798                       [Action, Crime, Thriller]\n",
       "4799                               [Comedy, Romance]\n",
       "4800               [Comedy, Drama, Romance, TVMovie]\n",
       "4801                                              []\n",
       "4802                                   [Documentary]\n",
       "Name: genres, Length: 4800, dtype: object"
      ]
     },
     "execution_count": 95,
     "metadata": {},
     "output_type": "execute_result"
    }
   ],
   "source": [
    "movies['genres']"
   ]
  },
  {
   "cell_type": "code",
   "execution_count": 96,
   "metadata": {},
   "outputs": [
    {
     "data": {
      "text/html": [
       "<div>\n",
       "<style scoped>\n",
       "    .dataframe tbody tr th:only-of-type {\n",
       "        vertical-align: middle;\n",
       "    }\n",
       "\n",
       "    .dataframe tbody tr th {\n",
       "        vertical-align: top;\n",
       "    }\n",
       "\n",
       "    .dataframe thead th {\n",
       "        text-align: right;\n",
       "    }\n",
       "</style>\n",
       "<table border=\"1\" class=\"dataframe\">\n",
       "  <thead>\n",
       "    <tr style=\"text-align: right;\">\n",
       "      <th></th>\n",
       "      <th>id</th>\n",
       "      <th>title</th>\n",
       "      <th>overview</th>\n",
       "      <th>genres</th>\n",
       "      <th>keywords</th>\n",
       "    </tr>\n",
       "  </thead>\n",
       "  <tbody>\n",
       "    <tr>\n",
       "      <th>0</th>\n",
       "      <td>19995</td>\n",
       "      <td>Avatar</td>\n",
       "      <td>[In, the, 22nd, century,, a, paraplegic, Marin...</td>\n",
       "      <td>[Action, Adventure, Fantasy, ScienceFiction]</td>\n",
       "      <td>[cultureclash, future, spacewar, spacecolony, ...</td>\n",
       "    </tr>\n",
       "    <tr>\n",
       "      <th>1</th>\n",
       "      <td>285</td>\n",
       "      <td>Pirates of the Caribbean: At World's End</td>\n",
       "      <td>[Captain, Barbossa,, long, believed, to, be, d...</td>\n",
       "      <td>[Adventure, Fantasy, Action]</td>\n",
       "      <td>[ocean, drugabuse, exoticisland, eastindiatrad...</td>\n",
       "    </tr>\n",
       "    <tr>\n",
       "      <th>2</th>\n",
       "      <td>206647</td>\n",
       "      <td>Spectre</td>\n",
       "      <td>[A, cryptic, message, from, Bond’s, past, send...</td>\n",
       "      <td>[Action, Adventure, Crime]</td>\n",
       "      <td>[spy, basedonnovel, secretagent, sequel, mi6, ...</td>\n",
       "    </tr>\n",
       "    <tr>\n",
       "      <th>3</th>\n",
       "      <td>49026</td>\n",
       "      <td>The Dark Knight Rises</td>\n",
       "      <td>[Following, the, death, of, District, Attorney...</td>\n",
       "      <td>[Action, Crime, Drama, Thriller]</td>\n",
       "      <td>[dccomics, crimefighter, terrorist, secretiden...</td>\n",
       "    </tr>\n",
       "    <tr>\n",
       "      <th>4</th>\n",
       "      <td>49529</td>\n",
       "      <td>John Carter</td>\n",
       "      <td>[John, Carter, is, a, war-weary,, former, mili...</td>\n",
       "      <td>[Action, Adventure, ScienceFiction]</td>\n",
       "      <td>[basedonnovel, mars, medallion, spacetravel, p...</td>\n",
       "    </tr>\n",
       "  </tbody>\n",
       "</table>\n",
       "</div>"
      ],
      "text/plain": [
       "       id                                     title  \\\n",
       "0   19995                                    Avatar   \n",
       "1     285  Pirates of the Caribbean: At World's End   \n",
       "2  206647                                   Spectre   \n",
       "3   49026                     The Dark Knight Rises   \n",
       "4   49529                               John Carter   \n",
       "\n",
       "                                            overview  \\\n",
       "0  [In, the, 22nd, century,, a, paraplegic, Marin...   \n",
       "1  [Captain, Barbossa,, long, believed, to, be, d...   \n",
       "2  [A, cryptic, message, from, Bond’s, past, send...   \n",
       "3  [Following, the, death, of, District, Attorney...   \n",
       "4  [John, Carter, is, a, war-weary,, former, mili...   \n",
       "\n",
       "                                         genres  \\\n",
       "0  [Action, Adventure, Fantasy, ScienceFiction]   \n",
       "1                  [Adventure, Fantasy, Action]   \n",
       "2                    [Action, Adventure, Crime]   \n",
       "3              [Action, Crime, Drama, Thriller]   \n",
       "4           [Action, Adventure, ScienceFiction]   \n",
       "\n",
       "                                            keywords  \n",
       "0  [cultureclash, future, spacewar, spacecolony, ...  \n",
       "1  [ocean, drugabuse, exoticisland, eastindiatrad...  \n",
       "2  [spy, basedonnovel, secretagent, sequel, mi6, ...  \n",
       "3  [dccomics, crimefighter, terrorist, secretiden...  \n",
       "4  [basedonnovel, mars, medallion, spacetravel, p...  "
      ]
     },
     "execution_count": 96,
     "metadata": {},
     "output_type": "execute_result"
    }
   ],
   "source": [
    "movies.head()"
   ]
  },
  {
   "cell_type": "code",
   "execution_count": 97,
   "metadata": {},
   "outputs": [],
   "source": [
    "movies['tags']=movies['overview']+movies['genres']+movies['keywords']"
   ]
  },
  {
   "cell_type": "code",
   "execution_count": 98,
   "metadata": {},
   "outputs": [
    {
     "data": {
      "text/html": [
       "<div>\n",
       "<style scoped>\n",
       "    .dataframe tbody tr th:only-of-type {\n",
       "        vertical-align: middle;\n",
       "    }\n",
       "\n",
       "    .dataframe tbody tr th {\n",
       "        vertical-align: top;\n",
       "    }\n",
       "\n",
       "    .dataframe thead th {\n",
       "        text-align: right;\n",
       "    }\n",
       "</style>\n",
       "<table border=\"1\" class=\"dataframe\">\n",
       "  <thead>\n",
       "    <tr style=\"text-align: right;\">\n",
       "      <th></th>\n",
       "      <th>id</th>\n",
       "      <th>title</th>\n",
       "      <th>overview</th>\n",
       "      <th>genres</th>\n",
       "      <th>keywords</th>\n",
       "      <th>tags</th>\n",
       "    </tr>\n",
       "  </thead>\n",
       "  <tbody>\n",
       "    <tr>\n",
       "      <th>0</th>\n",
       "      <td>19995</td>\n",
       "      <td>Avatar</td>\n",
       "      <td>[In, the, 22nd, century,, a, paraplegic, Marin...</td>\n",
       "      <td>[Action, Adventure, Fantasy, ScienceFiction]</td>\n",
       "      <td>[cultureclash, future, spacewar, spacecolony, ...</td>\n",
       "      <td>[In, the, 22nd, century,, a, paraplegic, Marin...</td>\n",
       "    </tr>\n",
       "    <tr>\n",
       "      <th>1</th>\n",
       "      <td>285</td>\n",
       "      <td>Pirates of the Caribbean: At World's End</td>\n",
       "      <td>[Captain, Barbossa,, long, believed, to, be, d...</td>\n",
       "      <td>[Adventure, Fantasy, Action]</td>\n",
       "      <td>[ocean, drugabuse, exoticisland, eastindiatrad...</td>\n",
       "      <td>[Captain, Barbossa,, long, believed, to, be, d...</td>\n",
       "    </tr>\n",
       "    <tr>\n",
       "      <th>2</th>\n",
       "      <td>206647</td>\n",
       "      <td>Spectre</td>\n",
       "      <td>[A, cryptic, message, from, Bond’s, past, send...</td>\n",
       "      <td>[Action, Adventure, Crime]</td>\n",
       "      <td>[spy, basedonnovel, secretagent, sequel, mi6, ...</td>\n",
       "      <td>[A, cryptic, message, from, Bond’s, past, send...</td>\n",
       "    </tr>\n",
       "    <tr>\n",
       "      <th>3</th>\n",
       "      <td>49026</td>\n",
       "      <td>The Dark Knight Rises</td>\n",
       "      <td>[Following, the, death, of, District, Attorney...</td>\n",
       "      <td>[Action, Crime, Drama, Thriller]</td>\n",
       "      <td>[dccomics, crimefighter, terrorist, secretiden...</td>\n",
       "      <td>[Following, the, death, of, District, Attorney...</td>\n",
       "    </tr>\n",
       "    <tr>\n",
       "      <th>4</th>\n",
       "      <td>49529</td>\n",
       "      <td>John Carter</td>\n",
       "      <td>[John, Carter, is, a, war-weary,, former, mili...</td>\n",
       "      <td>[Action, Adventure, ScienceFiction]</td>\n",
       "      <td>[basedonnovel, mars, medallion, spacetravel, p...</td>\n",
       "      <td>[John, Carter, is, a, war-weary,, former, mili...</td>\n",
       "    </tr>\n",
       "  </tbody>\n",
       "</table>\n",
       "</div>"
      ],
      "text/plain": [
       "       id                                     title  \\\n",
       "0   19995                                    Avatar   \n",
       "1     285  Pirates of the Caribbean: At World's End   \n",
       "2  206647                                   Spectre   \n",
       "3   49026                     The Dark Knight Rises   \n",
       "4   49529                               John Carter   \n",
       "\n",
       "                                            overview  \\\n",
       "0  [In, the, 22nd, century,, a, paraplegic, Marin...   \n",
       "1  [Captain, Barbossa,, long, believed, to, be, d...   \n",
       "2  [A, cryptic, message, from, Bond’s, past, send...   \n",
       "3  [Following, the, death, of, District, Attorney...   \n",
       "4  [John, Carter, is, a, war-weary,, former, mili...   \n",
       "\n",
       "                                         genres  \\\n",
       "0  [Action, Adventure, Fantasy, ScienceFiction]   \n",
       "1                  [Adventure, Fantasy, Action]   \n",
       "2                    [Action, Adventure, Crime]   \n",
       "3              [Action, Crime, Drama, Thriller]   \n",
       "4           [Action, Adventure, ScienceFiction]   \n",
       "\n",
       "                                            keywords  \\\n",
       "0  [cultureclash, future, spacewar, spacecolony, ...   \n",
       "1  [ocean, drugabuse, exoticisland, eastindiatrad...   \n",
       "2  [spy, basedonnovel, secretagent, sequel, mi6, ...   \n",
       "3  [dccomics, crimefighter, terrorist, secretiden...   \n",
       "4  [basedonnovel, mars, medallion, spacetravel, p...   \n",
       "\n",
       "                                                tags  \n",
       "0  [In, the, 22nd, century,, a, paraplegic, Marin...  \n",
       "1  [Captain, Barbossa,, long, believed, to, be, d...  \n",
       "2  [A, cryptic, message, from, Bond’s, past, send...  \n",
       "3  [Following, the, death, of, District, Attorney...  \n",
       "4  [John, Carter, is, a, war-weary,, former, mili...  "
      ]
     },
     "execution_count": 98,
     "metadata": {},
     "output_type": "execute_result"
    }
   ],
   "source": [
    "movies.head()"
   ]
  },
  {
   "cell_type": "code",
   "execution_count": 100,
   "metadata": {},
   "outputs": [],
   "source": [
    "new_movies=movies[['id', 'title', 'tags']]"
   ]
  },
  {
   "cell_type": "code",
   "execution_count": 101,
   "metadata": {},
   "outputs": [
    {
     "data": {
      "text/html": [
       "<div>\n",
       "<style scoped>\n",
       "    .dataframe tbody tr th:only-of-type {\n",
       "        vertical-align: middle;\n",
       "    }\n",
       "\n",
       "    .dataframe tbody tr th {\n",
       "        vertical-align: top;\n",
       "    }\n",
       "\n",
       "    .dataframe thead th {\n",
       "        text-align: right;\n",
       "    }\n",
       "</style>\n",
       "<table border=\"1\" class=\"dataframe\">\n",
       "  <thead>\n",
       "    <tr style=\"text-align: right;\">\n",
       "      <th></th>\n",
       "      <th>id</th>\n",
       "      <th>title</th>\n",
       "      <th>tags</th>\n",
       "    </tr>\n",
       "  </thead>\n",
       "  <tbody>\n",
       "    <tr>\n",
       "      <th>0</th>\n",
       "      <td>19995</td>\n",
       "      <td>Avatar</td>\n",
       "      <td>[In, the, 22nd, century,, a, paraplegic, Marin...</td>\n",
       "    </tr>\n",
       "    <tr>\n",
       "      <th>1</th>\n",
       "      <td>285</td>\n",
       "      <td>Pirates of the Caribbean: At World's End</td>\n",
       "      <td>[Captain, Barbossa,, long, believed, to, be, d...</td>\n",
       "    </tr>\n",
       "    <tr>\n",
       "      <th>2</th>\n",
       "      <td>206647</td>\n",
       "      <td>Spectre</td>\n",
       "      <td>[A, cryptic, message, from, Bond’s, past, send...</td>\n",
       "    </tr>\n",
       "    <tr>\n",
       "      <th>3</th>\n",
       "      <td>49026</td>\n",
       "      <td>The Dark Knight Rises</td>\n",
       "      <td>[Following, the, death, of, District, Attorney...</td>\n",
       "    </tr>\n",
       "    <tr>\n",
       "      <th>4</th>\n",
       "      <td>49529</td>\n",
       "      <td>John Carter</td>\n",
       "      <td>[John, Carter, is, a, war-weary,, former, mili...</td>\n",
       "    </tr>\n",
       "  </tbody>\n",
       "</table>\n",
       "</div>"
      ],
      "text/plain": [
       "       id                                     title  \\\n",
       "0   19995                                    Avatar   \n",
       "1     285  Pirates of the Caribbean: At World's End   \n",
       "2  206647                                   Spectre   \n",
       "3   49026                     The Dark Knight Rises   \n",
       "4   49529                               John Carter   \n",
       "\n",
       "                                                tags  \n",
       "0  [In, the, 22nd, century,, a, paraplegic, Marin...  \n",
       "1  [Captain, Barbossa,, long, believed, to, be, d...  \n",
       "2  [A, cryptic, message, from, Bond’s, past, send...  \n",
       "3  [Following, the, death, of, District, Attorney...  \n",
       "4  [John, Carter, is, a, war-weary,, former, mili...  "
      ]
     },
     "execution_count": 101,
     "metadata": {},
     "output_type": "execute_result"
    }
   ],
   "source": [
    "new_movies.head()"
   ]
  },
  {
   "cell_type": "code",
   "execution_count": 102,
   "metadata": {},
   "outputs": [
    {
     "data": {
      "text/plain": [
       "['In',\n",
       " 'the',\n",
       " '22nd',\n",
       " 'century,',\n",
       " 'a',\n",
       " 'paraplegic',\n",
       " 'Marine',\n",
       " 'is',\n",
       " 'dispatched',\n",
       " 'to',\n",
       " 'the',\n",
       " 'moon',\n",
       " 'Pandora',\n",
       " 'on',\n",
       " 'a',\n",
       " 'unique',\n",
       " 'mission,',\n",
       " 'but',\n",
       " 'becomes',\n",
       " 'torn',\n",
       " 'between',\n",
       " 'following',\n",
       " 'orders',\n",
       " 'and',\n",
       " 'protecting',\n",
       " 'an',\n",
       " 'alien',\n",
       " 'civilization.',\n",
       " 'Action',\n",
       " 'Adventure',\n",
       " 'Fantasy',\n",
       " 'ScienceFiction',\n",
       " 'cultureclash',\n",
       " 'future',\n",
       " 'spacewar',\n",
       " 'spacecolony',\n",
       " 'society',\n",
       " 'spacetravel',\n",
       " 'futuristic',\n",
       " 'romance',\n",
       " 'space',\n",
       " 'alien',\n",
       " 'tribe',\n",
       " 'alienplanet',\n",
       " 'cgi',\n",
       " 'marine',\n",
       " 'soldier',\n",
       " 'battle',\n",
       " 'loveaffair',\n",
       " 'antiwar',\n",
       " 'powerrelations',\n",
       " 'mindandsoul',\n",
       " '3d']"
      ]
     },
     "execution_count": 102,
     "metadata": {},
     "output_type": "execute_result"
    }
   ],
   "source": [
    "new_movies['tags'][0]"
   ]
  },
  {
   "cell_type": "code",
   "execution_count": 103,
   "metadata": {},
   "outputs": [
    {
     "data": {
      "text/plain": [
       "0       In the 22nd century, a paraplegic Marine is di...\n",
       "1       Captain Barbossa, long believed to be dead, ha...\n",
       "2       A cryptic message from Bond’s past sends him o...\n",
       "3       Following the death of District Attorney Harve...\n",
       "4       John Carter is a war-weary, former military ca...\n",
       "                              ...                        \n",
       "4798    El Mariachi just wants to play his guitar and ...\n",
       "4799    A newlywed couple's honeymoon is upended by th...\n",
       "4800    \"Signed, Sealed, Delivered\" introduces a dedic...\n",
       "4801    When ambitious New York attorney Sam is sent t...\n",
       "4802    Ever since the second grade when he first saw ...\n",
       "Name: tags, Length: 4800, dtype: object"
      ]
     },
     "execution_count": 103,
     "metadata": {},
     "output_type": "execute_result"
    }
   ],
   "source": [
    "new_movies['tags'].apply(lambda x:\" \".join(x))"
   ]
  },
  {
   "cell_type": "code",
   "execution_count": 104,
   "metadata": {},
   "outputs": [
    {
     "name": "stderr",
     "output_type": "stream",
     "text": [
      "C:\\Users\\kalas\\AppData\\Local\\Temp\\ipykernel_52092\\4113134046.py:1: SettingWithCopyWarning: \n",
      "A value is trying to be set on a copy of a slice from a DataFrame.\n",
      "Try using .loc[row_indexer,col_indexer] = value instead\n",
      "\n",
      "See the caveats in the documentation: https://pandas.pydata.org/pandas-docs/stable/user_guide/indexing.html#returning-a-view-versus-a-copy\n",
      "  new_movies['tags']=new_movies['tags'].apply(lambda x:\" \".join(x))\n"
     ]
    }
   ],
   "source": [
    "new_movies['tags']=new_movies['tags'].apply(lambda x:\" \".join(x))"
   ]
  },
  {
   "cell_type": "code",
   "execution_count": 105,
   "metadata": {},
   "outputs": [
    {
     "data": {
      "text/plain": [
       "0       In the 22nd century, a paraplegic Marine is di...\n",
       "1       Captain Barbossa, long believed to be dead, ha...\n",
       "2       A cryptic message from Bond’s past sends him o...\n",
       "3       Following the death of District Attorney Harve...\n",
       "4       John Carter is a war-weary, former military ca...\n",
       "                              ...                        \n",
       "4798    El Mariachi just wants to play his guitar and ...\n",
       "4799    A newlywed couple's honeymoon is upended by th...\n",
       "4800    \"Signed, Sealed, Delivered\" introduces a dedic...\n",
       "4801    When ambitious New York attorney Sam is sent t...\n",
       "4802    Ever since the second grade when he first saw ...\n",
       "Name: tags, Length: 4800, dtype: object"
      ]
     },
     "execution_count": 105,
     "metadata": {},
     "output_type": "execute_result"
    }
   ],
   "source": [
    "new_movies['tags']"
   ]
  },
  {
   "cell_type": "code",
   "execution_count": 106,
   "metadata": {},
   "outputs": [
    {
     "data": {
      "text/plain": [
       "'In the 22nd century, a paraplegic Marine is dispatched to the moon Pandora on a unique mission, but becomes torn between following orders and protecting an alien civilization. Action Adventure Fantasy ScienceFiction cultureclash future spacewar spacecolony society spacetravel futuristic romance space alien tribe alienplanet cgi marine soldier battle loveaffair antiwar powerrelations mindandsoul 3d'"
      ]
     },
     "execution_count": 106,
     "metadata": {},
     "output_type": "execute_result"
    }
   ],
   "source": [
    "new_movies['tags'][0]"
   ]
  },
  {
   "cell_type": "code",
   "execution_count": 107,
   "metadata": {},
   "outputs": [
    {
     "data": {
      "text/plain": [
       "0       in the 22nd century, a paraplegic marine is di...\n",
       "1       captain barbossa, long believed to be dead, ha...\n",
       "2       a cryptic message from bond’s past sends him o...\n",
       "3       following the death of district attorney harve...\n",
       "4       john carter is a war-weary, former military ca...\n",
       "                              ...                        \n",
       "4798    el mariachi just wants to play his guitar and ...\n",
       "4799    a newlywed couple's honeymoon is upended by th...\n",
       "4800    \"signed, sealed, delivered\" introduces a dedic...\n",
       "4801    when ambitious new york attorney sam is sent t...\n",
       "4802    ever since the second grade when he first saw ...\n",
       "Name: tags, Length: 4800, dtype: object"
      ]
     },
     "execution_count": 107,
     "metadata": {},
     "output_type": "execute_result"
    }
   ],
   "source": [
    "new_movies['tags'].apply(lambda x: x.lower())"
   ]
  },
  {
   "cell_type": "code",
   "execution_count": 108,
   "metadata": {},
   "outputs": [
    {
     "name": "stderr",
     "output_type": "stream",
     "text": [
      "C:\\Users\\kalas\\AppData\\Local\\Temp\\ipykernel_52092\\302004344.py:1: SettingWithCopyWarning: \n",
      "A value is trying to be set on a copy of a slice from a DataFrame.\n",
      "Try using .loc[row_indexer,col_indexer] = value instead\n",
      "\n",
      "See the caveats in the documentation: https://pandas.pydata.org/pandas-docs/stable/user_guide/indexing.html#returning-a-view-versus-a-copy\n",
      "  new_movies['tags']=new_movies['tags'].apply(lambda x: x.lower())\n"
     ]
    }
   ],
   "source": [
    "new_movies['tags']=new_movies['tags'].apply(lambda x: x.lower())"
   ]
  },
  {
   "cell_type": "code",
   "execution_count": 109,
   "metadata": {},
   "outputs": [
    {
     "data": {
      "text/plain": [
       "0       in the 22nd century, a paraplegic marine is di...\n",
       "1       captain barbossa, long believed to be dead, ha...\n",
       "2       a cryptic message from bond’s past sends him o...\n",
       "3       following the death of district attorney harve...\n",
       "4       john carter is a war-weary, former military ca...\n",
       "                              ...                        \n",
       "4798    el mariachi just wants to play his guitar and ...\n",
       "4799    a newlywed couple's honeymoon is upended by th...\n",
       "4800    \"signed, sealed, delivered\" introduces a dedic...\n",
       "4801    when ambitious new york attorney sam is sent t...\n",
       "4802    ever since the second grade when he first saw ...\n",
       "Name: tags, Length: 4800, dtype: object"
      ]
     },
     "execution_count": 109,
     "metadata": {},
     "output_type": "execute_result"
    }
   ],
   "source": [
    "new_movies['tags']"
   ]
  },
  {
   "cell_type": "code",
   "execution_count": 110,
   "metadata": {},
   "outputs": [
    {
     "data": {
      "text/html": [
       "<div>\n",
       "<style scoped>\n",
       "    .dataframe tbody tr th:only-of-type {\n",
       "        vertical-align: middle;\n",
       "    }\n",
       "\n",
       "    .dataframe tbody tr th {\n",
       "        vertical-align: top;\n",
       "    }\n",
       "\n",
       "    .dataframe thead th {\n",
       "        text-align: right;\n",
       "    }\n",
       "</style>\n",
       "<table border=\"1\" class=\"dataframe\">\n",
       "  <thead>\n",
       "    <tr style=\"text-align: right;\">\n",
       "      <th></th>\n",
       "      <th>id</th>\n",
       "      <th>title</th>\n",
       "      <th>tags</th>\n",
       "    </tr>\n",
       "  </thead>\n",
       "  <tbody>\n",
       "    <tr>\n",
       "      <th>0</th>\n",
       "      <td>19995</td>\n",
       "      <td>Avatar</td>\n",
       "      <td>in the 22nd century, a paraplegic marine is di...</td>\n",
       "    </tr>\n",
       "    <tr>\n",
       "      <th>1</th>\n",
       "      <td>285</td>\n",
       "      <td>Pirates of the Caribbean: At World's End</td>\n",
       "      <td>captain barbossa, long believed to be dead, ha...</td>\n",
       "    </tr>\n",
       "    <tr>\n",
       "      <th>2</th>\n",
       "      <td>206647</td>\n",
       "      <td>Spectre</td>\n",
       "      <td>a cryptic message from bond’s past sends him o...</td>\n",
       "    </tr>\n",
       "    <tr>\n",
       "      <th>3</th>\n",
       "      <td>49026</td>\n",
       "      <td>The Dark Knight Rises</td>\n",
       "      <td>following the death of district attorney harve...</td>\n",
       "    </tr>\n",
       "    <tr>\n",
       "      <th>4</th>\n",
       "      <td>49529</td>\n",
       "      <td>John Carter</td>\n",
       "      <td>john carter is a war-weary, former military ca...</td>\n",
       "    </tr>\n",
       "  </tbody>\n",
       "</table>\n",
       "</div>"
      ],
      "text/plain": [
       "       id                                     title  \\\n",
       "0   19995                                    Avatar   \n",
       "1     285  Pirates of the Caribbean: At World's End   \n",
       "2  206647                                   Spectre   \n",
       "3   49026                     The Dark Knight Rises   \n",
       "4   49529                               John Carter   \n",
       "\n",
       "                                                tags  \n",
       "0  in the 22nd century, a paraplegic marine is di...  \n",
       "1  captain barbossa, long believed to be dead, ha...  \n",
       "2  a cryptic message from bond’s past sends him o...  \n",
       "3  following the death of district attorney harve...  \n",
       "4  john carter is a war-weary, former military ca...  "
      ]
     },
     "execution_count": 110,
     "metadata": {},
     "output_type": "execute_result"
    }
   ],
   "source": [
    "new_movies.head()"
   ]
  },
  {
   "cell_type": "code",
   "execution_count": 113,
   "metadata": {},
   "outputs": [],
   "source": [
    "vectors=cv.fit_transform(new_movies['tags']).toarray()"
   ]
  },
  {
   "cell_type": "code",
   "execution_count": 114,
   "metadata": {},
   "outputs": [
    {
     "data": {
      "text/plain": [
       "array([[0, 0, 0, ..., 0, 0, 0],\n",
       "       [0, 0, 0, ..., 0, 0, 0],\n",
       "       [0, 0, 0, ..., 0, 0, 0],\n",
       "       ...,\n",
       "       [0, 0, 0, ..., 0, 0, 0],\n",
       "       [0, 0, 0, ..., 0, 0, 0],\n",
       "       [0, 0, 0, ..., 0, 0, 0]], dtype=int64)"
      ]
     },
     "execution_count": 114,
     "metadata": {},
     "output_type": "execute_result"
    }
   ],
   "source": [
    "vectors"
   ]
  },
  {
   "cell_type": "code",
   "execution_count": 116,
   "metadata": {},
   "outputs": [
    {
     "name": "stderr",
     "output_type": "stream",
     "text": [
      "c:\\Users\\kalas\\anaconda3\\lib\\site-packages\\sklearn\\utils\\deprecation.py:87: FutureWarning: Function get_feature_names is deprecated; get_feature_names is deprecated in 1.0 and will be removed in 1.2. Please use get_feature_names_out instead.\n",
      "  warnings.warn(msg, category=FutureWarning)\n"
     ]
    },
    {
     "data": {
      "text/plain": [
       "5000"
      ]
     },
     "execution_count": 116,
     "metadata": {},
     "output_type": "execute_result"
    }
   ],
   "source": [
    "len(cv.get_feature_names())"
   ]
  },
  {
   "cell_type": "code",
   "execution_count": 119,
   "metadata": {},
   "outputs": [],
   "source": [
    "def stem(text):\n",
    "    y=[]\n",
    "    for i in text.split():\n",
    "        y.append(ps.stem(i))\n",
    "    return \" \".join(y)"
   ]
  },
  {
   "cell_type": "code",
   "execution_count": 123,
   "metadata": {},
   "outputs": [
    {
     "data": {
      "text/plain": [
       "0       in the 22nd century, a parapleg marin is dispa...\n",
       "1       captain barbossa, long believ to be dead, ha c...\n",
       "2       a cryptic messag from bond’ past send him on a...\n",
       "3       follow the death of district attorney harvey d...\n",
       "4       john carter is a war-weary, former militari ca...\n",
       "                              ...                        \n",
       "4798    el mariachi just want to play hi guitar and ca...\n",
       "4799    a newlyw couple' honeymoon is upend by the arr...\n",
       "4800    \"signed, sealed, delivered\" introduc a dedic q...\n",
       "4801    when ambiti new york attorney sam is sent to s...\n",
       "4802    ever sinc the second grade when he first saw h...\n",
       "Name: tags, Length: 4800, dtype: object"
      ]
     },
     "execution_count": 123,
     "metadata": {},
     "output_type": "execute_result"
    }
   ],
   "source": [
    "new_movies['tags'].apply(stem)"
   ]
  },
  {
   "cell_type": "code",
   "execution_count": 124,
   "metadata": {},
   "outputs": [
    {
     "name": "stderr",
     "output_type": "stream",
     "text": [
      "C:\\Users\\kalas\\AppData\\Local\\Temp\\ipykernel_52092\\2598606076.py:1: SettingWithCopyWarning: \n",
      "A value is trying to be set on a copy of a slice from a DataFrame.\n",
      "Try using .loc[row_indexer,col_indexer] = value instead\n",
      "\n",
      "See the caveats in the documentation: https://pandas.pydata.org/pandas-docs/stable/user_guide/indexing.html#returning-a-view-versus-a-copy\n",
      "  new_movies['tags']=new_movies['tags'].apply(stem)\n"
     ]
    }
   ],
   "source": [
    "new_movies['tags']=new_movies['tags'].apply(stem)"
   ]
  },
  {
   "cell_type": "code",
   "execution_count": 125,
   "metadata": {},
   "outputs": [
    {
     "data": {
      "text/plain": [
       "0       in the 22nd century, a parapleg marin is dispa...\n",
       "1       captain barbossa, long believ to be dead, ha c...\n",
       "2       a cryptic messag from bond’ past send him on a...\n",
       "3       follow the death of district attorney harvey d...\n",
       "4       john carter is a war-weary, former militari ca...\n",
       "                              ...                        \n",
       "4798    el mariachi just want to play hi guitar and ca...\n",
       "4799    a newlyw couple' honeymoon is upend by the arr...\n",
       "4800    \"signed, sealed, delivered\" introduc a dedic q...\n",
       "4801    when ambiti new york attorney sam is sent to s...\n",
       "4802    ever sinc the second grade when he first saw h...\n",
       "Name: tags, Length: 4800, dtype: object"
      ]
     },
     "execution_count": 125,
     "metadata": {},
     "output_type": "execute_result"
    }
   ],
   "source": [
    "new_movies['tags']"
   ]
  },
  {
   "cell_type": "code",
   "execution_count": 129,
   "metadata": {},
   "outputs": [],
   "source": [
    "similarity=cosine_similarity(vectors)"
   ]
  },
  {
   "cell_type": "code",
   "execution_count": 130,
   "metadata": {},
   "outputs": [
    {
     "data": {
      "text/plain": [
       "array([1.        , 0.09583148, 0.06172134, ..., 0.02465568, 0.0270666 ,\n",
       "       0.        ])"
      ]
     },
     "execution_count": 130,
     "metadata": {},
     "output_type": "execute_result"
    }
   ],
   "source": [
    "similarity[0]"
   ]
  },
  {
   "cell_type": "code",
   "execution_count": 134,
   "metadata": {},
   "outputs": [
    {
     "data": {
      "text/plain": [
       "[(0, 1.0000000000000002),\n",
       " (539, 0.2732295333235123),\n",
       " (1191, 0.264575131106459),\n",
       " (507, 0.25539990311691463),\n",
       " (1213, 0.2480694691784169),\n",
       " (260, 0.24688535993934702),\n",
       " (582, 0.2439750182371333),\n",
       " (1914, 0.24053511772118194),\n",
       " (1201, 0.2405351177211819),\n",
       " (61, 0.23904572186687872),\n",
       " (3723, 0.23904572186687872),\n",
       " (74, 0.23199266800191015),\n",
       " (322, 0.2285714285714286),\n",
       " (495, 0.2267786838055363),\n",
       " (1438, 0.2258769757263128),\n",
       " (3603, 0.2238868314198225),\n",
       " (83, 0.22190115272469205),\n",
       " (2327, 0.22190115272469205),\n",
       " (972, 0.21971768720102058),\n",
       " (1326, 0.2162249910469341),\n",
       " (4185, 0.2162249910469341),\n",
       " (466, 0.2114722130550724),\n",
       " (151, 0.21128856368212912),\n",
       " (1198, 0.20701966780270628),\n",
       " (2198, 0.20597146021777488),\n",
       " (2994, 0.2038588765750502),\n",
       " (3322, 0.19920476822239894),\n",
       " (1272, 0.19889806323953876),\n",
       " (47, 0.1980534816610477),\n",
       " (150, 0.1980534816610477),\n",
       " (2966, 0.1980534816610477),\n",
       " (27, 0.19518001458970666),\n",
       " (4399, 0.19518001458970666),\n",
       " (220, 0.19518001458970663),\n",
       " (305, 0.19477964490741226),\n",
       " (373, 0.1938916835823703),\n",
       " (1318, 0.1938916835823703),\n",
       " (4041, 0.1932024558334913),\n",
       " (931, 0.19166296949998196),\n",
       " (1068, 0.18946618668626833),\n",
       " (1531, 0.18946618668626833),\n",
       " (2403, 0.18946618668626833),\n",
       " (3533, 0.18946618668626833),\n",
       " (461, 0.1889822365046136),\n",
       " (46, 0.18832944617230335),\n",
       " (942, 0.18832944617230335),\n",
       " (2780, 0.18832944617230335),\n",
       " (36, 0.18708286933869706),\n",
       " (301, 0.18585364625199016),\n",
       " (300, 0.18478728707195913),\n",
       " (7, 0.18257418583505533),\n",
       " (184, 0.18257418583505533),\n",
       " (208, 0.18070158058105024),\n",
       " (67, 0.17928429140015903),\n",
       " (4, 0.17837651700316892),\n",
       " (26, 0.1765469659009499),\n",
       " (1825, 0.1763834207376394),\n",
       " (581, 0.17622684421256032),\n",
       " (2725, 0.17622684421256032),\n",
       " (149, 0.17457431218879385),\n",
       " (661, 0.173137462139922),\n",
       " (2490, 0.17251638983558856),\n",
       " (1341, 0.17142857142857143),\n",
       " (31, 0.16903085094570333),\n",
       " (52, 0.1690308509457033),\n",
       " (1802, 0.1690308509457033),\n",
       " (108, 0.16903085094570328),\n",
       " (3157, 0.1673320053068151),\n",
       " (91, 0.16574838603294897),\n",
       " (2509, 0.16574838603294897),\n",
       " (1390, 0.16568337391590277),\n",
       " (1377, 0.16452254913212452),\n",
       " (4003, 0.16398401233815754),\n",
       " (1294, 0.16239958858823),\n",
       " (4330, 0.16239958858823),\n",
       " (1959, 0.1610152971798826),\n",
       " (168, 0.16035674514745463),\n",
       " (311, 0.16035674514745463),\n",
       " (3623, 0.15971914124998496),\n",
       " (1352, 0.15649215928719032),\n",
       " (172, 0.15511334686589623),\n",
       " (487, 0.15511334686589623),\n",
       " (158, 0.1546617786679401),\n",
       " (502, 0.1546617786679401),\n",
       " (111, 0.15430334996209188),\n",
       " (568, 0.15430334996209188),\n",
       " (1175, 0.15430334996209188),\n",
       " (3349, 0.15430334996209188),\n",
       " (2163, 0.15179418517972906),\n",
       " (17, 0.15149527937243176),\n",
       " (56, 0.15118578920369088),\n",
       " (422, 0.15118578920369088),\n",
       " (490, 0.15118578920369088),\n",
       " (1482, 0.15118578920369088),\n",
       " (41, 0.14953343588376802),\n",
       " (1932, 0.14953343588376802),\n",
       " (557, 0.1494035761667992),\n",
       " (577, 0.1494035761667992),\n",
       " (838, 0.14907119849998596),\n",
       " (249, 0.14754222271266348),\n",
       " (332, 0.14712247158412492),\n",
       " (1012, 0.14712247158412492),\n",
       " (84, 0.14675987714106856),\n",
       " (187, 0.1449427589131121),\n",
       " (1217, 0.1449427589131121),\n",
       " (2680, 0.1449427589131121),\n",
       " (1319, 0.14488358652488853),\n",
       " (68, 0.14414999403128942),\n",
       " (505, 0.14414999403128942),\n",
       " (1324, 0.14414999403128942),\n",
       " (369, 0.14285714285714285),\n",
       " (413, 0.14285714285714285),\n",
       " (1939, 0.14285714285714285),\n",
       " (483, 0.14098147537004826),\n",
       " (1155, 0.14098147537004826),\n",
       " (2614, 0.14098147537004826),\n",
       " (1667, 0.14064216928154863),\n",
       " (4342, 0.14064216928154863),\n",
       " (2127, 0.13930903806377162),\n",
       " (2867, 0.13930903806377162),\n",
       " (754, 0.1389425035941821),\n",
       " (3404, 0.1389425035941821),\n",
       " (3617, 0.1389425035941821),\n",
       " (127, 0.13848495294356286),\n",
       " (342, 0.13848495294356286),\n",
       " (134, 0.13801311186847084),\n",
       " (368, 0.13801311186847084),\n",
       " (1044, 0.13801311186847084),\n",
       " (2578, 0.13801311186847084),\n",
       " (4484, 0.13801311186847084),\n",
       " (595, 0.13710212427677043),\n",
       " (653, 0.13552618543578768),\n",
       " (999, 0.13552618543578768),\n",
       " (1569, 0.13552618543578768),\n",
       " (2317, 0.13552618543578768),\n",
       " (1034, 0.13533299049019168),\n",
       " (94, 0.13522468075656266),\n",
       " (1093, 0.13522468075656266),\n",
       " (1652, 0.13522468075656266),\n",
       " (2965, 0.13522468075656266),\n",
       " (3371, 0.13522468075656266),\n",
       " (778, 0.1336306209562122),\n",
       " (3667, 0.1336306209562122),\n",
       " (275, 0.13259870882635919),\n",
       " (2372, 0.13259870882635919),\n",
       " (278, 0.13199091933711365),\n",
       " (2474, 0.1309307341415954),\n",
       " (95, 0.13041013273932525),\n",
       " (529, 0.13041013273932525),\n",
       " (549, 0.13041013273932525),\n",
       " (1611, 0.13041013273932525),\n",
       " (1271, 0.1301200097264711),\n",
       " (1741, 0.1301200097264711),\n",
       " (1735, 0.12985309660494151),\n",
       " (228, 0.12888481555661674),\n",
       " (420, 0.12888481555661674),\n",
       " (1296, 0.12888481555661674),\n",
       " (939, 0.12880163722232754),\n",
       " (50, 0.12777531299998796),\n",
       " (579, 0.12777531299998796),\n",
       " (1827, 0.12777531299998796),\n",
       " (3992, 0.12777531299998796),\n",
       " (4667, 0.12777531299998796),\n",
       " (454, 0.12741179785940637),\n",
       " (3304, 0.12741179785940637),\n",
       " (808, 0.1267731382092775),\n",
       " (1709, 0.1267731382092775),\n",
       " (3213, 0.1267731382092775),\n",
       " (2707, 0.12598815766974242),\n",
       " (28, 0.12555296411486888),\n",
       " (232, 0.12555296411486888),\n",
       " (294, 0.12555296411486888),\n",
       " (2862, 0.12555296411486888),\n",
       " (1274, 0.12461119656980671),\n",
       " (123, 0.1246111965698067),\n",
       " (432, 0.1246111965698067),\n",
       " (2541, 0.1246111965698067),\n",
       " (72, 0.12344267996967351),\n",
       " (2069, 0.12344267996967351),\n",
       " (3003, 0.12344267996967351),\n",
       " (5, 0.12327841818038447),\n",
       " (2253, 0.12298800925361815),\n",
       " (1568, 0.12209353913347193),\n",
       " (169, 0.12198750911856666),\n",
       " (1473, 0.12198750911856666),\n",
       " (692, 0.12198750911856665),\n",
       " (1506, 0.12198750911856665),\n",
       " (166, 0.12143534814378325),\n",
       " (687, 0.12143534814378325),\n",
       " (1610, 0.12143534814378325),\n",
       " (1976, 0.12143534814378325),\n",
       " (3142, 0.12121830534626528),\n",
       " (3402, 0.12073632210407378),\n",
       " (238, 0.1203616281427559),\n",
       " (624, 0.11952286093343936),\n",
       " (627, 0.11952286093343936),\n",
       " (1715, 0.11952286093343936),\n",
       " (3625, 0.11952286093343936),\n",
       " (4128, 0.11952286093343936),\n",
       " (508, 0.11952286093343935),\n",
       " (859, 0.11952286093343935),\n",
       " (4072, 0.11952286093343935),\n",
       " (4090, 0.11952286093343935),\n",
       " (199, 0.11834526708278768),\n",
       " (81, 0.1178966237837789),\n",
       " (14, 0.11769797726729993),\n",
       " (87, 0.11769797726729993),\n",
       " (126, 0.11769797726729993),\n",
       " (900, 0.11769797726729993),\n",
       " (1028, 0.11769797726729993),\n",
       " (2066, 0.11769797726729993),\n",
       " (2577, 0.11769797726729993),\n",
       " (141, 0.11633501014942217),\n",
       " (773, 0.11633501014942217),\n",
       " (1367, 0.11633501014942217),\n",
       " (3050, 0.11633501014942217),\n",
       " (3714, 0.11633501014942217),\n",
       " (3993, 0.11633501014942217),\n",
       " (4325, 0.11633501014942217),\n",
       " (10, 0.11595420713048966),\n",
       " (330, 0.11595420713048966),\n",
       " (513, 0.11595420713048966),\n",
       " (854, 0.11595420713048966),\n",
       " (1192, 0.11595420713048966),\n",
       " (1291, 0.11595420713048966),\n",
       " (3335, 0.11595420713048966),\n",
       " (18, 0.11501092655705902),\n",
       " (777, 0.11501092655705902),\n",
       " (2100, 0.11501092655705902),\n",
       " (295, 0.11428571428571428),\n",
       " (131, 0.11428571428571427),\n",
       " (174, 0.11428571428571427),\n",
       " (312, 0.11428571428571427),\n",
       " (643, 0.11428571428571427),\n",
       " (2007, 0.11428571428571427),\n",
       " (2175, 0.11428571428571427),\n",
       " (2444, 0.11428571428571427),\n",
       " (3493, 0.11428571428571427),\n",
       " (3615, 0.11428571428571427),\n",
       " (1016, 0.11396057645963796),\n",
       " (33, 0.11338934190276816),\n",
       " (105, 0.11338934190276816),\n",
       " (157, 0.11338934190276816),\n",
       " (935, 0.11338934190276816),\n",
       " (1153, 0.11338934190276816),\n",
       " (1277, 0.11338934190276816),\n",
       " (1518, 0.11338934190276816),\n",
       " (2450, 0.11338934190276816),\n",
       " (2515, 0.11338934190276816),\n",
       " (2556, 0.11338934190276816),\n",
       " (2628, 0.11338934190276816),\n",
       " (3947, 0.11338934190276816),\n",
       " (4011, 0.11338934190276816),\n",
       " (102, 0.1129384878631564),\n",
       " (266, 0.1126872339638022),\n",
       " (334, 0.1126872339638022),\n",
       " (535, 0.1126872339638022),\n",
       " (1079, 0.1126872339638022),\n",
       " (3097, 0.1126872339638022),\n",
       " (403, 0.11194341570991125),\n",
       " (1491, 0.11194341570991125),\n",
       " (985, 0.11115400287534567),\n",
       " (2754, 0.1109741904046188),\n",
       " (233, 0.11065666703449761),\n",
       " (325, 0.11065666703449761),\n",
       " (389, 0.11065666703449761),\n",
       " (476, 0.11065666703449761),\n",
       " (660, 0.11065666703449761),\n",
       " (1495, 0.11065666703449761),\n",
       " (1721, 0.11065666703449761),\n",
       " (2756, 0.11065666703449761),\n",
       " (3832, 0.11065666703449761),\n",
       " (4196, 0.11065666703449761),\n",
       " (2433, 0.11002971203391539),\n",
       " (182, 0.10968169942141635),\n",
       " (510, 0.10968169942141635),\n",
       " (740, 0.10968169942141635),\n",
       " (239, 0.10910894511799618),\n",
       " (129, 0.10826639239215334),\n",
       " (4223, 0.10826639239215334),\n",
       " (139, 0.10821091383745125),\n",
       " (3774, 0.10811249552346708),\n",
       " (148, 0.10811249552346706),\n",
       " (263, 0.10811249552346706),\n",
       " (715, 0.10811249552346706),\n",
       " (1583, 0.10811249552346706),\n",
       " (1936, 0.10811249552346706),\n",
       " (2654, 0.10811249552346706),\n",
       " (3655, 0.10811249552346706),\n",
       " (85, 0.10811249552346705),\n",
       " (1270, 0.10690449676496976),\n",
       " (2278, 0.10690449676496976),\n",
       " (3776, 0.10690449676496976),\n",
       " (4038, 0.10690449676496976),\n",
       " (4539, 0.10647942749998995),\n",
       " (35, 0.1057361065275362),\n",
       " (400, 0.1057361065275362),\n",
       " (530, 0.1057361065275362),\n",
       " (564, 0.1057361065275362),\n",
       " (781, 0.1057361065275362),\n",
       " (1024, 0.1057361065275362),\n",
       " (2655, 0.1057361065275362),\n",
       " (4191, 0.1057361065275362),\n",
       " (270, 0.10559273546969093),\n",
       " (371, 0.10559273546969093),\n",
       " (473, 0.10559273546969093),\n",
       " (898, 0.10559273546969093),\n",
       " (1083, 0.10559273546969093),\n",
       " (1106, 0.10559273546969093),\n",
       " (1433, 0.10559273546969093),\n",
       " (3438, 0.10559273546969093),\n",
       " (307, 0.10516609640992378),\n",
       " (279, 0.10432810619146021),\n",
       " (412, 0.10432810619146021),\n",
       " (933, 0.10432810619146021),\n",
       " (3459, 0.10432810619146021),\n",
       " (12, 0.10350983390135314),\n",
       " (292, 0.10350983390135314),\n",
       " (511, 0.10350983390135314),\n",
       " (920, 0.10350983390135314),\n",
       " (1074, 0.10350983390135314),\n",
       " (1298, 0.10350983390135314),\n",
       " (3729, 0.10350983390135314),\n",
       " (4249, 0.10350983390135314),\n",
       " (4617, 0.10350983390135314),\n",
       " (243, 0.1031078524452934),\n",
       " (813, 0.1031078524452934),\n",
       " (1199, 0.1031078524452934),\n",
       " (1997, 0.1031078524452934),\n",
       " (870, 0.1019294382875251),\n",
       " (1273, 0.1019294382875251),\n",
       " (1817, 0.1019294382875251),\n",
       " (23, 0.10141851056742199),\n",
       " (236, 0.10141851056742199),\n",
       " (362, 0.10141851056742199),\n",
       " (791, 0.10141851056742199),\n",
       " (1468, 0.10141851056742199),\n",
       " (1750, 0.10141851056742199),\n",
       " (2087, 0.10141851056742199),\n",
       " (2645, 0.10141851056742199),\n",
       " (785, 0.10101525445522105),\n",
       " (410, 0.10079052613579392),\n",
       " (1230, 0.10079052613579392),\n",
       " (43, 0.09968895725584535),\n",
       " (618, 0.09968895725584535),\n",
       " (1354, 0.09968895725584535),\n",
       " (1086, 0.09960238411119947),\n",
       " (122, 0.09944903161976938),\n",
       " (227, 0.09944903161976938),\n",
       " (349, 0.09944903161976938),\n",
       " (691, 0.09944903161976938),\n",
       " (922, 0.09944903161976938),\n",
       " (1303, 0.09944903161976938),\n",
       " (1680, 0.09944903161976938),\n",
       " (2390, 0.09944903161976938),\n",
       " (2646, 0.09944903161976938),\n",
       " (3088, 0.09944903161976938),\n",
       " (1275, 0.09862273454430757),\n",
       " (1840, 0.09862273454430757),\n",
       " (534, 0.09759000729485333),\n",
       " (596, 0.09759000729485333),\n",
       " (1412, 0.09759000729485333),\n",
       " (1918, 0.09759000729485333),\n",
       " (2482, 0.09759000729485333),\n",
       " (2590, 0.09759000729485333),\n",
       " (2790, 0.09759000729485333),\n",
       " (2874, 0.09759000729485333),\n",
       " (4496, 0.09759000729485333),\n",
       " (96, 0.09759000729485331),\n",
       " (242, 0.09759000729485331),\n",
       " (1402, 0.09759000729485331),\n",
       " (1694, 0.09759000729485331),\n",
       " (3532, 0.09759000729485331),\n",
       " (160, 0.09694584179118515),\n",
       " (1, 0.09583148474999097),\n",
       " (21, 0.09583148474999097),\n",
       " (112, 0.09583148474999097),\n",
       " (121, 0.09583148474999097),\n",
       " (164, 0.09583148474999097),\n",
       " (356, 0.09583148474999097),\n",
       " (901, 0.09583148474999097),\n",
       " (960, 0.09583148474999097),\n",
       " (1139, 0.09583148474999097),\n",
       " (1246, 0.09583148474999097),\n",
       " (2834, 0.09583148474999097),\n",
       " (3296, 0.09583148474999097),\n",
       " (3444, 0.09583148474999097),\n",
       " (479, 0.09569487529386908),\n",
       " (799, 0.09569487529386908),\n",
       " (1826, 0.09467621366623015),\n",
       " (203, 0.09416472308615166),\n",
       " (306, 0.09416472308615166),\n",
       " (315, 0.09416472308615166),\n",
       " (794, 0.09416472308615166),\n",
       " (977, 0.09416472308615166),\n",
       " (1001, 0.09416472308615166),\n",
       " (1467, 0.09416472308615166),\n",
       " (2245, 0.09416472308615166),\n",
       " (4462, 0.09416472308615166),\n",
       " (4620, 0.09416472308615166),\n",
       " (541, 0.09376144618769909),\n",
       " (1999, 0.09376144618769909),\n",
       " (2492, 0.09376144618769909),\n",
       " (381, 0.09376144618769908),\n",
       " (1658, 0.09376144618769908),\n",
       " (2382, 0.09376144618769908),\n",
       " (2850, 0.09376144618769908),\n",
       " (4158, 0.09376144618769908),\n",
       " (4347, 0.09376144618769908),\n",
       " (4510, 0.09376144618769908),\n",
       " (32, 0.09287269204251442),\n",
       " (170, 0.09287269204251442),\n",
       " (467, 0.09287269204251442),\n",
       " (1490, 0.09287269204251442),\n",
       " (2442, 0.09276773134741387),\n",
       " (101, 0.09258200997725513),\n",
       " (142, 0.09258200997725513),\n",
       " (245, 0.09258200997725513),\n",
       " (634, 0.09258200997725513),\n",
       " (814, 0.09258200997725513),\n",
       " (894, 0.09258200997725513),\n",
       " (1266, 0.09258200997725513),\n",
       " (1784, 0.09258200997725513),\n",
       " (206, 0.09221388919541468),\n",
       " (45, 0.09200874124564722),\n",
       " (107, 0.09200874124564722),\n",
       " (812, 0.09200874124564722),\n",
       " (2963, 0.09200874124564722),\n",
       " (222, 0.09116846116771037),\n",
       " (654, 0.09116846116771037),\n",
       " (75, 0.09107651110783743),\n",
       " (88, 0.09107651110783743),\n",
       " (775, 0.09107651110783743),\n",
       " (1204, 0.09107651110783743),\n",
       " (1517, 0.09107651110783743),\n",
       " (3809, 0.09107651110783743),\n",
       " (363, 0.09035079029052512),\n",
       " (501, 0.09035079029052512),\n",
       " (776, 0.09035079029052512),\n",
       " (850, 0.09035079029052512),\n",
       " (1136, 0.09035079029052512),\n",
       " (2268, 0.09035079029052512),\n",
       " (2333, 0.09035079029052512),\n",
       " (3149, 0.09035079029052512),\n",
       " (4648, 0.09035079029052512),\n",
       " (4731, 0.09035079029052512),\n",
       " (39, 0.08964214570007951),\n",
       " (71, 0.08964214570007951),\n",
       " (547, 0.08964214570007951),\n",
       " (2161, 0.08964214570007951),\n",
       " (2241, 0.08964214570007951),\n",
       " (2788, 0.08964214570007951),\n",
       " (2811, 0.08964214570007951),\n",
       " (4252, 0.08964214570007951),\n",
       " (4651, 0.08964214570007951),\n",
       " (103, 0.089554732567929),\n",
       " (491, 0.089554732567929),\n",
       " (1872, 0.089554732567929),\n",
       " (1279, 0.08877935232369503),\n",
       " (1399, 0.08877935232369503),\n",
       " (3436, 0.08877935232369503),\n",
       " (2380, 0.08859623899229174),\n",
       " (37, 0.08827348295047495),\n",
       " (257, 0.08827348295047495),\n",
       " (329, 0.08827348295047495),\n",
       " (457, 0.08827348295047495),\n",
       " (472, 0.08827348295047495),\n",
       " (746, 0.08827348295047495),\n",
       " (786, 0.08827348295047495),\n",
       " (1110, 0.08827348295047495),\n",
       " (1395, 0.08827348295047495),\n",
       " (2298, 0.08827348295047495),\n",
       " (3418, 0.08827348295047495),\n",
       " (3423, 0.08827348295047495),\n",
       " (193, 0.0880237696271323),\n",
       " (1528, 0.0880237696271323),\n",
       " (572, 0.08728715609439695),\n",
       " (153, 0.08728715609439694),\n",
       " (189, 0.08728715609439694),\n",
       " (205, 0.08728715609439694),\n",
       " (1320, 0.08728715609439694),\n",
       " (1515, 0.08728715609439694),\n",
       " (1649, 0.08728715609439694),\n",
       " (1920, 0.08728715609439694),\n",
       " (2653, 0.08728715609439694),\n",
       " (2706, 0.08728715609439694),\n",
       " (2783, 0.08728715609439694),\n",
       " (3150, 0.08728715609439694),\n",
       " (4486, 0.08728715609439694),\n",
       " (4712, 0.08728715609439694),\n",
       " (19, 0.08728715609439693),\n",
       " (86, 0.08696565534786725),\n",
       " (207, 0.08696565534786725),\n",
       " (787, 0.08696565534786725),\n",
       " (1158, 0.08696565534786725),\n",
       " (1286, 0.08696565534786725),\n",
       " (3086, 0.08696565534786725),\n",
       " (3135, 0.08696565534786725),\n",
       " (3305, 0.08696565534786725),\n",
       " (1822, 0.086568731069961),\n",
       " (1633, 0.08586775814821836),\n",
       " (16, 0.0857142857142857),\n",
       " (70, 0.0857142857142857),\n",
       " (98, 0.0857142857142857),\n",
       " (223, 0.0857142857142857),\n",
       " (626, 0.0857142857142857),\n",
       " (885, 0.0857142857142857),\n",
       " (899, 0.0857142857142857),\n",
       " (937, 0.0857142857142857),\n",
       " (3023, 0.0857142857142857),\n",
       " (3230, 0.0857142857142857),\n",
       " (3384, 0.0857142857142857),\n",
       " (51, 0.08518354199999197),\n",
       " (589, 0.08518354199999197),\n",
       " (3426, 0.08518354199999197),\n",
       " (62, 0.08451542547285165),\n",
       " (63, 0.08451542547285165),\n",
       " (82, 0.08451542547285165),\n",
       " (190, 0.08451542547285165),\n",
       " (241, 0.08451542547285165),\n",
       " (365, 0.08451542547285165),\n",
       " (471, 0.08451542547285165),\n",
       " (503, 0.08451542547285165),\n",
       " (632, 0.08451542547285165),\n",
       " (680, 0.08451542547285165),\n",
       " (737, 0.08451542547285165),\n",
       " (984, 0.08451542547285165),\n",
       " (1002, 0.08451542547285165),\n",
       " (1361, 0.08451542547285165),\n",
       " (1608, 0.08451542547285165),\n",
       " (2311, 0.08451542547285165),\n",
       " (2320, 0.08451542547285165),\n",
       " (2638, 0.08451542547285165),\n",
       " (2677, 0.08451542547285165),\n",
       " (2795, 0.08451542547285165),\n",
       " (3064, 0.08451542547285165),\n",
       " (3350, 0.08451542547285165),\n",
       " (3522, 0.08451542547285165),\n",
       " (4425, 0.08451542547285165),\n",
       " (4467, 0.08451542547285165),\n",
       " (4562, 0.08451542547285165),\n",
       " (4635, 0.08451542547285165),\n",
       " (230, 0.08386278693775347),\n",
       " (2197, 0.08386278693775347),\n",
       " (11, 0.08336550215650926),\n",
       " (138, 0.08336550215650926),\n",
       " (1759, 0.08336550215650926),\n",
       " (2157, 0.08336550215650926),\n",
       " (2247, 0.08336550215650926),\n",
       " (2814, 0.08336550215650926),\n",
       " (3465, 0.08336550215650926),\n",
       " (2093, 0.0832250378576479),\n",
       " (2757, 0.08322503785764788),\n",
       " (254, 0.08226127456606226),\n",
       " (271, 0.08226127456606226),\n",
       " (1053, 0.08226127456606226),\n",
       " (1554, 0.08226127456606226),\n",
       " (3903, 0.08226127456606226),\n",
       " (4048, 0.08226127456606226),\n",
       " (570, 0.08199200616907877),\n",
       " (800, 0.08199200616907877),\n",
       " (1345, 0.08199200616907877),\n",
       " (1763, 0.08199200616907877),\n",
       " (2159, 0.08199200616907877),\n",
       " (2206, 0.08199200616907877),\n",
       " (2375, 0.08199200616907877),\n",
       " (2545, 0.08199200616907877),\n",
       " (2877, 0.08199200616907877),\n",
       " (3067, 0.08199200616907877),\n",
       " (3393, 0.08199200616907877),\n",
       " (3425, 0.08199200616907877),\n",
       " (4054, 0.08199200616907877),\n",
       " (59, 0.08139569275564795),\n",
       " (732, 0.081199794294115),\n",
       " (1287, 0.081199794294115),\n",
       " (2015, 0.081199794294115),\n",
       " (2235, 0.081199794294115),\n",
       " (2348, 0.081199794294115),\n",
       " (3201, 0.081199794294115),\n",
       " (3694, 0.081199794294115),\n",
       " (76, 0.08017837257372731),\n",
       " (79, 0.08017837257372731),\n",
       " (2389, 0.08017837257372731),\n",
       " (2586, 0.08017837257372731),\n",
       " (2825, 0.08017837257372731),\n",
       " (3017, 0.08017837257372731),\n",
       " (4076, 0.08017837257372731),\n",
       " (4445, 0.08017837257372731),\n",
       " (100, 0.07968190728895957),\n",
       " (109, 0.07968190728895957),\n",
       " (200, 0.07968190728895957),\n",
       " (256, 0.07968190728895957),\n",
       " (313, 0.07968190728895957),\n",
       " (1042, 0.07968190728895957),\n",
       " (1285, 0.07968190728895957),\n",
       " (1615, 0.07968190728895957),\n",
       " (1731, 0.07968190728895957),\n",
       " (2155, 0.07968190728895957),\n",
       " (2692, 0.07968190728895957),\n",
       " (3236, 0.07968190728895957),\n",
       " (3248, 0.07968190728895957),\n",
       " (3825, 0.07968190728895957),\n",
       " (3987, 0.07968190728895957),\n",
       " (4406, 0.07968190728895957),\n",
       " (274, 0.0795054244426302),\n",
       " (419, 0.0791945516022682),\n",
       " (536, 0.0791945516022682),\n",
       " (587, 0.0791945516022682),\n",
       " (591, 0.0791945516022682),\n",
       " (784, 0.0791945516022682),\n",
       " (908, 0.0791945516022682),\n",
       " (1617, 0.0791945516022682),\n",
       " (1626, 0.0791945516022682),\n",
       " (2357, 0.0791945516022682),\n",
       " (4634, 0.0791945516022682),\n",
       " (9, 0.07824607964359516),\n",
       " (543, 0.07824607964359516),\n",
       " (635, 0.07824607964359516),\n",
       " (782, 0.07824607964359516),\n",
       " (1172, 0.07824607964359516),\n",
       " (1322, 0.07824607964359516),\n",
       " (2911, 0.07824607964359516),\n",
       " (4116, 0.07824607964359516),\n",
       " (125, 0.07813453848974923),\n",
       " (179, 0.07755667343294811),\n",
       " (229, 0.07755667343294811),\n",
       " (267, 0.07755667343294811),\n",
       " (319, 0.07755667343294811),\n",
       " (336, 0.07755667343294811),\n",
       " (1259, 0.07755667343294811),\n",
       " (2108, 0.07755667343294811),\n",
       " (2130, 0.07755667343294811),\n",
       " (2527, 0.07755667343294811),\n",
       " (2781, 0.07755667343294811),\n",
       " (3975, 0.07755667343294811),\n",
       " (3999, 0.07755667343294811),\n",
       " (4437, 0.07755667343294811),\n",
       " (752, 0.07733088933397005),\n",
       " (827, 0.07733088933397005),\n",
       " (976, 0.07733088933397005),\n",
       " (994, 0.07733088933397005),\n",
       " (1165, 0.07733088933397005),\n",
       " (2046, 0.07733088933397005),\n",
       " (2695, 0.07733088933397005),\n",
       " (3183, 0.07733088933397005),\n",
       " (212, 0.07644707871564382),\n",
       " (665, 0.07644707871564382),\n",
       " (674, 0.07644707871564382),\n",
       " (728, 0.07644707871564382),\n",
       " (1015, 0.07644707871564382),\n",
       " (1439, 0.07644707871564382),\n",
       " (1440, 0.07644707871564382),\n",
       " (1877, 0.07644707871564382),\n",
       " (3385, 0.07644707871564382),\n",
       " (30, 0.07559289460184544),\n",
       " (55, 0.07559289460184544),\n",
       " (281, 0.07559289460184544),\n",
       " (488, 0.07559289460184544),\n",
       " (704, 0.07559289460184544),\n",
       " (1082, 0.07559289460184544),\n",
       " (1143, 0.07559289460184544),\n",
       " (1289, 0.07559289460184544),\n",
       " (1404, 0.07559289460184544),\n",
       " (1764, 0.07559289460184544),\n",
       " (1768, 0.07559289460184544),\n",
       " (2012, 0.07559289460184544),\n",
       " (2404, 0.07559289460184544),\n",
       " (2644, 0.07559289460184544),\n",
       " (3663, 0.07559289460184544),\n",
       " (3670, 0.07559289460184544),\n",
       " (3900, 0.07559289460184544),\n",
       " (4397, 0.07559289460184544),\n",
       " (183, 0.0751248226425348),\n",
       " (2050, 0.07476671794188403),\n",
       " (97, 0.07476671794188401),\n",
       " (600, 0.07476671794188401),\n",
       " (1337, 0.07476671794188401),\n",
       " (1695, 0.07476671794188401),\n",
       " (3220, 0.07476671794188401),\n",
       " (3815, 0.07476671794188401),\n",
       " (215, 0.07396705090823068),\n",
       " (1090, 0.07396705090823068),\n",
       " (1449, 0.07396705090823068),\n",
       " (1957, 0.07396705090823068),\n",
       " (159, 0.07377111135633174),\n",
       " (237, 0.07377111135633174),\n",
       " (604, 0.07377111135633174),\n",
       " (621, 0.07377111135633174),\n",
       " (695, 0.07377111135633174),\n",
       " (1163, 0.07377111135633174),\n",
       " (1168, 0.07377111135633174),\n",
       " (1239, 0.07377111135633174),\n",
       " (1460, 0.07377111135633174),\n",
       " (1984, 0.07377111135633174),\n",
       " (2011, 0.07377111135633174),\n",
       " (2616, 0.07377111135633174),\n",
       " (3969, 0.07377111135633174),\n",
       " (262, 0.07319250547113999),\n",
       " (425, 0.07319250547113999),\n",
       " (1188, 0.07319250547113999),\n",
       " (1990, 0.07319250547113999),\n",
       " (2285, 0.07319250547113999),\n",
       " (304, 0.07248803762927497),\n",
       " (889, 0.07248803762927497),\n",
       " (1365, 0.07244179326244427),\n",
       " (2097, 0.07244179326244427),\n",
       " (2314, 0.07244179326244427),\n",
       " (2883, 0.07244179326244427),\n",
       " (22, 0.07207499701564471),\n",
       " (167, 0.07207499701564471),\n",
       " (276, 0.07207499701564471),\n",
       " (533, 0.07207499701564471),\n",
       " (537, 0.07207499701564471),\n",
       " (668, 0.07207499701564471),\n",
       " (1375, 0.07207499701564471),\n",
       " (1967, 0.07207499701564471),\n",
       " (2047, 0.07207499701564471),\n",
       " (2054, 0.07207499701564471),\n",
       " (2438, 0.07207499701564471),\n",
       " (2565, 0.07207499701564471),\n",
       " (2573, 0.07207499701564471),\n",
       " (2658, 0.07207499701564471),\n",
       " (2971, 0.07207499701564471),\n",
       " (3292, 0.07207499701564471),\n",
       " (3510, 0.07207499701564471),\n",
       " (3924, 0.07207499701564471),\n",
       " (4209, 0.07207499701564471),\n",
       " (4284, 0.07207499701564471),\n",
       " (4585, 0.07207499701564471),\n",
       " (4632, 0.07207499701564471),\n",
       " (469, 0.07171371656006362),\n",
       " (790, 0.07171371656006362),\n",
       " (2129, 0.07171371656006362),\n",
       " (2366, 0.07171371656006362),\n",
       " (2569, 0.07171371656006362),\n",
       " (2786, 0.07171371656006362),\n",
       " (3551, 0.07171371656006362),\n",
       " (415, 0.07166893746324661),\n",
       " (456, 0.07100716024967262),\n",
       " (612, 0.07100716024967262),\n",
       " (1302, 0.07100716024967262),\n",
       " (2258, 0.07100716024967262),\n",
       " (4174, 0.07100716024967262),\n",
       " (219, 0.07049073768502413),\n",
       " (290, 0.07049073768502413),\n",
       " (308, 0.07049073768502413),\n",
       " (498, 0.07049073768502413),\n",
       " (744, 0.07049073768502413),\n",
       " (945, 0.07049073768502413),\n",
       " (1073, 0.07049073768502413),\n",
       " (1134, 0.07049073768502413),\n",
       " (1300, 0.07049073768502413),\n",
       " (1344, 0.07049073768502413),\n",
       " (1564, 0.07049073768502413),\n",
       " (1599, 0.07049073768502413),\n",
       " (1854, 0.07049073768502413),\n",
       " (1923, 0.07049073768502413),\n",
       " (2051, 0.07049073768502413),\n",
       " (2084, 0.07049073768502413),\n",
       " (3128, 0.07049073768502413),\n",
       " (3369, 0.07049073768502413),\n",
       " (3616, 0.07049073768502413),\n",
       " (3649, 0.07049073768502413),\n",
       " (4314, 0.07049073768502413),\n",
       " (4466, 0.07049073768502413),\n",
       " (29, 0.07032108464077431),\n",
       " (92, 0.07032108464077431),\n",
       " (3602, 0.07032108464077431),\n",
       " (4337, 0.07032108464077431),\n",
       " (4532, 0.07032108464077431),\n",
       " (143, 0.06965451903188581),\n",
       " (234, 0.06965451903188581),\n",
       " (475, 0.06965451903188581),\n",
       " (836, 0.06965451903188581),\n",
       " (1004, 0.06965451903188581),\n",
       " (1686, 0.06965451903188581),\n",
       " (3733, 0.06965451903188581),\n",
       " (3207, 0.06923773432360811),\n",
       " (546, 0.06900655593423542),\n",
       " (711, 0.06900655593423542),\n",
       " (1580, 0.06900655593423542),\n",
       " (1878, 0.06900655593423542),\n",
       " (1938, 0.06900655593423542),\n",
       " (2152, 0.06900655593423542),\n",
       " (2262, 0.06900655593423542),\n",
       " (2735, 0.06900655593423542),\n",
       " (2950, 0.06900655593423542),\n",
       " (2952, 0.06900655593423542),\n",
       " (3630, 0.06900655593423542),\n",
       " (4083, 0.06900655593423542),\n",
       " (4351, 0.06900655593423542),\n",
       " (4796, 0.06900655593423542),\n",
       " (48, 0.06900655593423541),\n",
       " (2592, 0.06900655593423541),\n",
       " (2995, 0.06900655593423541),\n",
       " (124, 0.06837634587578277),\n",
       " (1973, 0.06837634587578277),\n",
       " (246, 0.06776309271789384),\n",
       " (1027, 0.06776309271789384),\n",
       " (2250, 0.06776309271789384),\n",
       " (195, 0.06761234037828133),\n",
       " (348, 0.06761234037828133),\n",
       " (1076, 0.06761234037828133),\n",
       " (1094, 0.06761234037828133),\n",
       " (1138, 0.06761234037828133),\n",
       " (1256, 0.06761234037828133),\n",
       " (1428, 0.06761234037828133),\n",
       " (1434, 0.06761234037828133),\n",
       " (1567, 0.06761234037828133),\n",
       " (1601, 0.06761234037828133),\n",
       " (1625, 0.06761234037828133),\n",
       " (1665, 0.06761234037828133),\n",
       " (2016, 0.06761234037828133),\n",
       " (2264, 0.06761234037828133),\n",
       " (2943, 0.06761234037828133),\n",
       " (3160, 0.06761234037828133),\n",
       " (3351, 0.06761234037828133),\n",
       " (3567, 0.06761234037828133),\n",
       " (4092, 0.06761234037828133),\n",
       " (156, 0.06716604942594674),\n",
       " (1343, 0.06716604942594674),\n",
       " (1672, 0.06716604942594674),\n",
       " (1953, 0.06716604942594674),\n",
       " (213, 0.06658451424277127),\n",
       " (277, 0.06658451424277127),\n",
       " (768, 0.06658451424277127),\n",
       " (1594, 0.06658451424277127),\n",
       " (49, 0.06629935441317959),\n",
       " (90, 0.06629935441317959),\n",
       " (152, 0.06629935441317959),\n",
       " (259, 0.06629935441317959),\n",
       " (309, 0.06629935441317959),\n",
       " (358, 0.06629935441317959),\n",
       " (404, 0.06629935441317959),\n",
       " (664, 0.06629935441317959),\n",
       " (823, 0.06629935441317959),\n",
       " (1070, 0.06629935441317959),\n",
       " (1089, 0.06629935441317959),\n",
       " (1359, 0.06629935441317959),\n",
       " (1474, 0.06629935441317959),\n",
       " (2114, 0.06629935441317959),\n",
       " (2229, 0.06629935441317959),\n",
       " (2639, 0.06629935441317959),\n",
       " (3606, 0.06629935441317959),\n",
       " (3827, 0.06629935441317959),\n",
       " (4265, 0.06629935441317959),\n",
       " (4306, 0.06629935441317959),\n",
       " (4349, 0.06629935441317959),\n",
       " (4698, 0.06629935441317959),\n",
       " (4721, 0.06629935441317959),\n",
       " (253, 0.06601782722034923),\n",
       " (607, 0.06601782722034923),\n",
       " (1481, 0.06601782722034923),\n",
       " (1892, 0.0654653670707977),\n",
       " (3555, 0.0654653670707977),\n",
       " (8, 0.06506000486323554),\n",
       " (147, 0.06506000486323554),\n",
       " (216, 0.06506000486323554),\n",
       " (244, 0.06506000486323554),\n",
       " (341, 0.06506000486323554),\n",
       " (678, 0.06506000486323554),\n",
       " (843, 0.06506000486323554),\n",
       " (951, 0.06506000486323554),\n",
       " (995, 0.06506000486323554),\n",
       " (1067, 0.06506000486323554),\n",
       " (1144, 0.06506000486323554),\n",
       " (1238, 0.06506000486323554),\n",
       " (1258, 0.06506000486323554),\n",
       " (1414, 0.06506000486323554),\n",
       " (1463, 0.06506000486323554),\n",
       " (2683, 0.06506000486323554),\n",
       " (2789, 0.06506000486323554),\n",
       " (3176, 0.06506000486323554),\n",
       " (3443, 0.06506000486323554),\n",
       " (4031, 0.06506000486323554),\n",
       " (4127, 0.06506000486323554),\n",
       " (4189, 0.06506000486323554),\n",
       " (4560, 0.06506000486323554),\n",
       " (1358, 0.06492654830247076),\n",
       " (1653, 0.06492654830247076),\n",
       " (2642, 0.06492654830247074),\n",
       " (224, 0.06440081861116377),\n",
       " (2543, 0.06440081861116377),\n",
       " (3855, 0.06440081861116377),\n",
       " (38, 0.06388765649999398),\n",
       " (512, 0.06388765649999398),\n",
       " (701, 0.06388765649999398),\n",
       " (745, 0.06388765649999398),\n",
       " (844, 0.06388765649999398),\n",
       " (1331, 0.06388765649999398),\n",
       " (1372, 0.06388765649999398),\n",
       " (1578, 0.06388765649999398),\n",
       " (1682, 0.06388765649999398),\n",
       " (1790, 0.06388765649999398),\n",
       " (2583, 0.06388765649999398),\n",
       " (3054, 0.06388765649999398),\n",
       " (3299, 0.06388765649999398),\n",
       " (3853, 0.06388765649999398),\n",
       " (3898, 0.06388765649999398),\n",
       " (4141, 0.06388765649999398),\n",
       " (4775, 0.06388765649999398),\n",
       " (117, 0.06277648205743444),\n",
       " (198, 0.06277648205743444),\n",
       " (840, 0.06277648205743444),\n",
       " (1447, 0.06277648205743444),\n",
       " (1507, 0.06277648205743444),\n",
       " (2546, 0.06277648205743444),\n",
       " (2985, 0.06277648205743444),\n",
       " (3130, 0.06277648205743444),\n",
       " (3883, 0.06277648205743444),\n",
       " (4554, 0.06277648205743444),\n",
       " (2990, 0.06250763079179938),\n",
       " (391, 0.06195121541733006),\n",
       " (426, 0.06195121541733006),\n",
       " (4113, 0.06195121541733006),\n",
       " (4299, 0.06195121541733006),\n",
       " (2, 0.061721339984836754),\n",
       " (402, 0.061721339984836754),\n",
       " (492, 0.061721339984836754),\n",
       " (544, 0.061721339984836754),\n",
       " (614, 0.061721339984836754),\n",
       " (1550, 0.061721339984836754),\n",
       " (1697, 0.061721339984836754),\n",
       " (1762, 0.061721339984836754),\n",
       " (1836, 0.061721339984836754),\n",
       " (1987, 0.061721339984836754),\n",
       " (3317, 0.061721339984836754),\n",
       " (3344, 0.061721339984836754),\n",
       " (3368, 0.061721339984836754),\n",
       " (3919, 0.061721339984836754),\n",
       " (89, 0.06146576398025575),\n",
       " (3363, 0.06146576398025575),\n",
       " (428, 0.061046769566735964),\n",
       " (755, 0.061046769566735964),\n",
       " (2184, 0.061046769566735964),\n",
       " (104, 0.060717674071891624),\n",
       " (366, 0.060717674071891624),\n",
       " (443, 0.060717674071891624),\n",
       " (449, 0.060717674071891624),\n",
       " (741, 0.060717674071891624),\n",
       " (1131, 0.060717674071891624),\n",
       " (1193, 0.060717674071891624),\n",
       " (1380, 0.060717674071891624),\n",
       " (1579, 0.060717674071891624),\n",
       " (1707, 0.060717674071891624),\n",
       " (1740, 0.060717674071891624),\n",
       " (1907, 0.060717674071891624),\n",
       " (2169, 0.060717674071891624),\n",
       " (2630, 0.060717674071891624),\n",
       " (2818, 0.060717674071891624),\n",
       " (2859, 0.060717674071891624),\n",
       " (3360, 0.060717674071891624),\n",
       " (3739, 0.060717674071891624),\n",
       " (3928, 0.060717674071891624),\n",
       " (610, 0.06060915267313264),\n",
       " (848, 0.060180814071377944),\n",
       " (196, 0.059761430466719674),\n",
       " (235, 0.059761430466719674),\n",
       " (302, 0.059761430466719674),\n",
       " (326, 0.059761430466719674),\n",
       " (339, 0.059761430466719674),\n",
       " (597, 0.059761430466719674),\n",
       " (644, 0.059761430466719674),\n",
       " (805, 0.059761430466719674),\n",
       " (1085, 0.059761430466719674),\n",
       " (1095, 0.059761430466719674),\n",
       " (1234, 0.059761430466719674),\n",
       " (1542, 0.059761430466719674),\n",
       " (1643, 0.059761430466719674),\n",
       " (1821, 0.059761430466719674),\n",
       " (2226, 0.059761430466719674),\n",
       " (2472, 0.059761430466719674),\n",
       " (3077, 0.059761430466719674),\n",
       " (3161, 0.059761430466719674),\n",
       " (3671, 0.059761430466719674),\n",
       " (4287, 0.059761430466719674),\n",
       " (4333, 0.059761430466719674),\n",
       " (4371, 0.059761430466719674),\n",
       " (4630, 0.059761430466719674),\n",
       " (4787, 0.059761430466719674),\n",
       " (486, 0.0593506941186698),\n",
       " (24, 0.05884898863364997),\n",
       " (370, 0.05884898863364997),\n",
       " (395, 0.05884898863364997),\n",
       " (514, 0.05884898863364997),\n",
       " (575, 0.05884898863364997),\n",
       " (929, 0.05884898863364997),\n",
       " (1078, 0.05884898863364997),\n",
       " (1080, 0.05884898863364997),\n",
       " (1290, 0.05884898863364997),\n",
       " (1393, 0.05884898863364997),\n",
       " (1437, 0.05884898863364997),\n",
       " (1645, 0.05884898863364997),\n",
       " (2085, 0.05884898863364997),\n",
       " (2218, 0.05884898863364997),\n",
       " (2237, 0.05884898863364997),\n",
       " (2413, 0.05884898863364997),\n",
       " (2469, 0.05884898863364997),\n",
       " (2496, 0.05884898863364997),\n",
       " (3000, 0.05884898863364997),\n",
       " ...]"
      ]
     },
     "execution_count": 134,
     "metadata": {},
     "output_type": "execute_result"
    }
   ],
   "source": [
    "sorted(list(enumerate(similarity[0])), reverse=True, key=lambda x:x[1])"
   ]
  },
  {
   "cell_type": "code",
   "execution_count": null,
   "metadata": {},
   "outputs": [],
   "source": []
  },
  {
   "cell_type": "code",
   "execution_count": 187,
   "metadata": {},
   "outputs": [],
   "source": [
    "def recommend(movie):\n",
    "    try:\n",
    "        movie_index=new_movies[new_movies['title']==movie].index[0]\n",
    "        distances=similarity[movie_index]\n",
    "        movie_list=sorted(list(enumerate(distances)), reverse=True, key=lambda x:x[1]) [1:6]\n",
    "        for i in movie_list:\n",
    "            print (new_movies.iloc[i[0]].title)\n",
    "    except IndexError:\n",
    "        return \"Sorry! This movie is not present in our database currently\""
   ]
  },
  {
   "cell_type": "code",
   "execution_count": 183,
   "metadata": {},
   "outputs": [
    {
     "name": "stdout",
     "output_type": "stream",
     "text": [
      "Titan A.E.\n",
      "Small Soldiers\n",
      "Independence Day\n",
      "Aliens vs Predator: Requiem\n",
      "Ender's Game\n"
     ]
    }
   ],
   "source": [
    "recommend('Avatar')"
   ]
  },
  {
   "cell_type": "code",
   "execution_count": 188,
   "metadata": {},
   "outputs": [
    {
     "name": "stdout",
     "output_type": "stream",
     "text": [
      "Titan A.E.\n",
      "Small Soldiers\n",
      "Independence Day\n",
      "Aliens vs Predator: Requiem\n",
      "Ender's Game\n"
     ]
    }
   ],
   "source": [
    "recommend('Avatar')"
   ]
  },
  {
   "cell_type": "code",
   "execution_count": 190,
   "metadata": {},
   "outputs": [
    {
     "data": {
      "text/plain": [
       "'Movie not present in the database'"
      ]
     },
     "execution_count": 190,
     "metadata": {},
     "output_type": "execute_result"
    }
   ],
   "source": [
    "recommend('Adipurush')"
   ]
  }
 ],
 "metadata": {
  "kernelspec": {
   "display_name": "Python 3",
   "language": "python",
   "name": "python3"
  },
  "language_info": {
   "codemirror_mode": {
    "name": "ipython",
    "version": 3
   },
   "file_extension": ".py",
   "mimetype": "text/x-python",
   "name": "python",
   "nbconvert_exporter": "python",
   "pygments_lexer": "ipython3",
   "version": "3.9.13"
  },
  "orig_nbformat": 4
 },
 "nbformat": 4,
 "nbformat_minor": 2
}
